{
  "nbformat": 4,
  "nbformat_minor": 0,
  "metadata": {
    "colab": {
      "name": "PythonOOP.ipynb",
      "provenance": [],
      "collapsed_sections": [],
      "include_colab_link": true
    },
    "kernelspec": {
      "name": "python3",
      "display_name": "Python 3"
    },
    "language_info": {
      "name": "python"
    }
  },
  "cells": [
    {
      "cell_type": "markdown",
      "metadata": {
        "id": "view-in-github",
        "colab_type": "text"
      },
      "source": [
        "<a href=\"https://colab.research.google.com/github/NayeemH/100-Days-Of-ML-Code/blob/master/PythonOOP.ipynb\" target=\"_parent\"><img src=\"https://colab.research.google.com/assets/colab-badge.svg\" alt=\"Open In Colab\"/></a>"
      ]
    },
    {
      "cell_type": "markdown",
      "metadata": {
        "id": "hJv7_G7tmuKf"
      },
      "source": [
        "# **Multiplication using lamda function**"
      ]
    },
    {
      "cell_type": "code",
      "metadata": {
        "colab": {
          "base_uri": "https://localhost:8080/"
        },
        "id": "BjgCrgetlub5",
        "outputId": "908aefdd-1fa7-4484-efe0-2da9aee6558b"
      },
      "source": [
        "multiply = lambda x1,x2: x1*x2\n",
        "\n",
        "result = multiply(5,6)\n",
        "print(result)"
      ],
      "execution_count": 1,
      "outputs": [
        {
          "output_type": "stream",
          "text": [
            "30\n"
          ],
          "name": "stdout"
        }
      ]
    },
    {
      "cell_type": "code",
      "metadata": {
        "colab": {
          "base_uri": "https://localhost:8080/"
        },
        "id": "cT4Z5kWJnGpA",
        "outputId": "6f0df7ad-96f8-4ef9-994d-75551ad397bd"
      },
      "source": [
        "## function\n",
        "def multiply(x1,x2):\n",
        "  result= x1*x2\n",
        "  return result\n",
        "\n",
        "c= multiply(5,6)\n",
        "print(c)"
      ],
      "execution_count": 2,
      "outputs": [
        {
          "output_type": "stream",
          "text": [
            "30\n"
          ],
          "name": "stdout"
        }
      ]
    },
    {
      "cell_type": "markdown",
      "metadata": {
        "id": "kmJLcrp8nzTW"
      },
      "source": [
        "# **Square root using lamda function(not possible)**"
      ]
    },
    {
      "cell_type": "code",
      "metadata": {
        "colab": {
          "base_uri": "https://localhost:8080/"
        },
        "id": "rpe3Tdu-n45a",
        "outputId": "1bbe0da7-edae-463e-8e90-5acd6e860acd"
      },
      "source": [
        "import math\n",
        "print(math.sqrt(3))"
      ],
      "execution_count": 3,
      "outputs": [
        {
          "output_type": "stream",
          "text": [
            "1.7320508075688772\n"
          ],
          "name": "stdout"
        }
      ]
    },
    {
      "cell_type": "markdown",
      "metadata": {
        "id": "OUC1qmVCou1H"
      },
      "source": [
        "# **Double number using lamda function**"
      ]
    },
    {
      "cell_type": "code",
      "metadata": {
        "colab": {
          "base_uri": "https://localhost:8080/"
        },
        "id": "wiksgwbxo0dG",
        "outputId": "a62556b8-5c4c-4909-e238-9a95030d952c"
      },
      "source": [
        "double_number = lambda x : x*2\n",
        "print(double_number(4))"
      ],
      "execution_count": 4,
      "outputs": [
        {
          "output_type": "stream",
          "text": [
            "8\n"
          ],
          "name": "stdout"
        }
      ]
    },
    {
      "cell_type": "markdown",
      "metadata": {
        "id": "5MXR76q8pFX1"
      },
      "source": [
        "# **Power function  using lamda function**"
      ]
    },
    {
      "cell_type": "code",
      "metadata": {
        "colab": {
          "base_uri": "https://localhost:8080/"
        },
        "id": "ziTxy_DnpKEA",
        "outputId": "88b9ae46-1ec0-4217-e10b-8cf943f792c1"
      },
      "source": [
        "power_function = lambda y,z : y**z\n",
        "print(power_function(4,3))"
      ],
      "execution_count": 5,
      "outputs": [
        {
          "output_type": "stream",
          "text": [
            "64\n"
          ],
          "name": "stdout"
        }
      ]
    },
    {
      "cell_type": "markdown",
      "metadata": {
        "id": "GqOohKB3qJmy"
      },
      "source": [
        "# **Object Oriented Programming**"
      ]
    },
    {
      "cell_type": "markdown",
      "metadata": {
        "id": "kb2MvKi1qZ2G"
      },
      "source": [
        "Class − A user-defined prototype for an object that defines a set of attributes that characterize any object of the class. The attributes are data members (class variables and instance variables) and methods, accessed via dot notation."
      ]
    },
    {
      "cell_type": "code",
      "metadata": {
        "colab": {
          "base_uri": "https://localhost:8080/"
        },
        "id": "QhmQQL3irY8r",
        "outputId": "57875506-6521-4813-fb82-12f2f006f3f3"
      },
      "source": [
        "class MyClass:\n",
        "  x=5\n",
        "  y=6\n",
        "  z= (x+y)\n",
        "  \n",
        "\n",
        "obj1 = MyClass()\n",
        "\n",
        "print(obj1.z)\n"
      ],
      "execution_count": 6,
      "outputs": [
        {
          "output_type": "stream",
          "text": [
            "11\n"
          ],
          "name": "stdout"
        }
      ]
    },
    {
      "cell_type": "code",
      "metadata": {
        "colab": {
          "base_uri": "https://localhost:8080/"
        },
        "id": "xmpCeIkvs7Q7",
        "outputId": "30a99ee7-1e56-45c6-d818-cb2dccd1ad17"
      },
      "source": [
        "obj1.y"
      ],
      "execution_count": 7,
      "outputs": [
        {
          "output_type": "execute_result",
          "data": {
            "text/plain": [
              "6"
            ]
          },
          "metadata": {
            "tags": []
          },
          "execution_count": 7
        }
      ]
    },
    {
      "cell_type": "markdown",
      "metadata": {
        "id": "CIGFW94SujIG"
      },
      "source": [
        "The examples above are classes and objects in their simplest form, and are not really useful in real life applications.\n",
        "Built in function:\n",
        "1) __init__()"
      ]
    },
    {
      "cell_type": "markdown",
      "metadata": {
        "id": "0XypllCru_MX"
      },
      "source": [
        "# **All classes have a function called __init__(), which is always executed when the class is being initiated.**"
      ]
    },
    {
      "cell_type": "markdown",
      "metadata": {
        "id": "m3MJuZnyvgDu"
      },
      "source": [
        "# **Constructor**\n",
        "**Use the __init__() function to assign values to object properties, or other operations that are necessary to do when the object is being created:**"
      ]
    },
    {
      "cell_type": "code",
      "metadata": {
        "id": "3XTEKbO4uj5o"
      },
      "source": [
        "class Student:\n",
        "\n",
        "  def __init__(self,name,roll,age):\n",
        "    self.name= name\n",
        "    self.roll = roll\n",
        "    self.age = age\n",
        "\n",
        "student1 = Student(\"Toa\",101,-16)\n"
      ],
      "execution_count": 8,
      "outputs": []
    },
    {
      "cell_type": "code",
      "metadata": {
        "colab": {
          "base_uri": "https://localhost:8080/"
        },
        "id": "HJxtz1CjwyDC",
        "outputId": "1ac553b5-f1f2-4930-a42b-2b2f356c0948"
      },
      "source": [
        "student1.age,student1.name"
      ],
      "execution_count": 9,
      "outputs": [
        {
          "output_type": "execute_result",
          "data": {
            "text/plain": [
              "(-16, 'Toa')"
            ]
          },
          "metadata": {
            "tags": []
          },
          "execution_count": 9
        }
      ]
    },
    {
      "cell_type": "markdown",
      "metadata": {
        "id": "xk0nT0pexbwv"
      },
      "source": [
        "# **Object Methods**\n",
        "Objects can also contain methods. Methods in objects are functions that belong to the object.\n",
        "\n"
      ]
    },
    {
      "cell_type": "code",
      "metadata": {
        "colab": {
          "base_uri": "https://localhost:8080/"
        },
        "id": "Eu57MTLExeh7",
        "outputId": "16ea79ac-0265-4555-9987-9626ab94d451"
      },
      "source": [
        "class Student:\n",
        "\n",
        "  def __init__(self,name,roll,age):\n",
        "    self.name= name\n",
        "    self.roll = roll\n",
        "    self.age = age\n",
        "  \n",
        "  def printMyName(self):\n",
        "    print(\"your name is \"+ self.name)\n",
        "\n",
        "student1 = Student(\"Toa\",101,-16)\n",
        "student1.printMyName()"
      ],
      "execution_count": 10,
      "outputs": [
        {
          "output_type": "stream",
          "text": [
            "your name is Toa\n"
          ],
          "name": "stdout"
        }
      ]
    },
    {
      "cell_type": "code",
      "metadata": {
        "id": "asBnxicGzVuT",
        "colab": {
          "base_uri": "https://localhost:8080/"
        },
        "outputId": "2df43e3f-bea1-4ef0-f9e1-821d2ea58c8c"
      },
      "source": [
        "class Student:\n",
        "\n",
        "  def __init__(self,first,second,third,fourth):\n",
        "    self.first= first\n",
        "    self.second = second\n",
        "    self.third = third\n",
        "    self.fourth = fourth\n",
        "  \n",
        "  def printMyCGPA(self):\n",
        "    x = (self.first+self.second+self.third+self.fourth)/4\n",
        "    print(x)\n",
        "\n",
        "student1 = Student(3.90,3.86,3.94,3.24)\n",
        "student1.printMyCGPA()"
      ],
      "execution_count": 11,
      "outputs": [
        {
          "output_type": "stream",
          "text": [
            "3.735\n"
          ],
          "name": "stdout"
        }
      ]
    },
    {
      "cell_type": "markdown",
      "metadata": {
        "id": "Q_LDqwGmVoWf"
      },
      "source": [
        "# **Arrays**\n",
        "An array is a special variable that can hold more than one value at a time."
      ]
    },
    {
      "cell_type": "code",
      "metadata": {
        "colab": {
          "base_uri": "https://localhost:8080/"
        },
        "id": "OO9frJ_7Vqc8",
        "outputId": "1a63c2e2-7fc5-429d-8128-1c15efc96270"
      },
      "source": [
        "myArray = [1,2,3,4,76,2,4,6,78,3,7,3,46567,2,6,3,3,7,3]\n",
        "print(myArray)\n",
        "myArray\n"
      ],
      "execution_count": 12,
      "outputs": [
        {
          "output_type": "stream",
          "text": [
            "[1, 2, 3, 4, 76, 2, 4, 6, 78, 3, 7, 3, 46567, 2, 6, 3, 3, 7, 3]\n"
          ],
          "name": "stdout"
        },
        {
          "output_type": "execute_result",
          "data": {
            "text/plain": [
              "[1, 2, 3, 4, 76, 2, 4, 6, 78, 3, 7, 3, 46567, 2, 6, 3, 3, 7, 3]"
            ]
          },
          "metadata": {
            "tags": []
          },
          "execution_count": 12
        }
      ]
    },
    {
      "cell_type": "code",
      "metadata": {
        "colab": {
          "base_uri": "https://localhost:8080/"
        },
        "id": "bDGQAeJRWGOx",
        "outputId": "12368e5a-ee23-498e-eac1-f3c36e70a201"
      },
      "source": [
        "myArray[2]"
      ],
      "execution_count": 13,
      "outputs": [
        {
          "output_type": "execute_result",
          "data": {
            "text/plain": [
              "3"
            ]
          },
          "metadata": {
            "tags": []
          },
          "execution_count": 13
        }
      ]
    },
    {
      "cell_type": "code",
      "metadata": {
        "colab": {
          "base_uri": "https://localhost:8080/"
        },
        "id": "wQHJlOtZWsrP",
        "outputId": "af17febe-0f04-4ab6-d585-4b0ef873bc08"
      },
      "source": [
        "len(myArray)"
      ],
      "execution_count": 14,
      "outputs": [
        {
          "output_type": "execute_result",
          "data": {
            "text/plain": [
              "19"
            ]
          },
          "metadata": {
            "tags": []
          },
          "execution_count": 14
        }
      ]
    },
    {
      "cell_type": "code",
      "metadata": {
        "colab": {
          "base_uri": "https://localhost:8080/"
        },
        "id": "Q9SUutgBW5yM",
        "outputId": "c09e6a9d-4dec-4744-9c65-88767aa567bc"
      },
      "source": [
        "for i in myArray:\n",
        "  print(i*10)"
      ],
      "execution_count": 15,
      "outputs": [
        {
          "output_type": "stream",
          "text": [
            "10\n",
            "20\n",
            "30\n",
            "40\n",
            "760\n",
            "20\n",
            "40\n",
            "60\n",
            "780\n",
            "30\n",
            "70\n",
            "30\n",
            "465670\n",
            "20\n",
            "60\n",
            "30\n",
            "30\n",
            "70\n",
            "30\n"
          ],
          "name": "stdout"
        }
      ]
    },
    {
      "cell_type": "code",
      "metadata": {
        "id": "lsTZYexzXNRZ"
      },
      "source": [
        "myArray.append(2343)"
      ],
      "execution_count": 16,
      "outputs": []
    },
    {
      "cell_type": "code",
      "metadata": {
        "colab": {
          "base_uri": "https://localhost:8080/"
        },
        "id": "a7m-hxiRX2q5",
        "outputId": "e4181e6a-5624-4dca-ae6e-1b688132e468"
      },
      "source": [
        "myArray"
      ],
      "execution_count": 17,
      "outputs": [
        {
          "output_type": "execute_result",
          "data": {
            "text/plain": [
              "[1, 2, 3, 4, 76, 2, 4, 6, 78, 3, 7, 3, 46567, 2, 6, 3, 3, 7, 3, 2343]"
            ]
          },
          "metadata": {
            "tags": []
          },
          "execution_count": 17
        }
      ]
    },
    {
      "cell_type": "code",
      "metadata": {
        "id": "30P8-bS9YfIQ"
      },
      "source": [
        "myArray.insert(3,10000)"
      ],
      "execution_count": 18,
      "outputs": []
    },
    {
      "cell_type": "code",
      "metadata": {
        "colab": {
          "base_uri": "https://localhost:8080/"
        },
        "id": "DbkHhnb3Yy6M",
        "outputId": "af43811b-719e-4f3b-a4d3-320718f7d044"
      },
      "source": [
        "myArray"
      ],
      "execution_count": 19,
      "outputs": [
        {
          "output_type": "execute_result",
          "data": {
            "text/plain": [
              "[1, 2, 3, 10000, 4, 76, 2, 4, 6, 78, 3, 7, 3, 46567, 2, 6, 3, 3, 7, 3, 2343]"
            ]
          },
          "metadata": {
            "tags": []
          },
          "execution_count": 19
        }
      ]
    },
    {
      "cell_type": "code",
      "metadata": {
        "id": "3rj1AU5yY01N"
      },
      "source": [
        "for i in range(len(myArray)):\n",
        "  if(myArray[i]==76):\n",
        "    myArray.pop(i)\n",
        "    break"
      ],
      "execution_count": 20,
      "outputs": []
    },
    {
      "cell_type": "code",
      "metadata": {
        "colab": {
          "base_uri": "https://localhost:8080/"
        },
        "id": "z7ceQxfxZ58q",
        "outputId": "74347695-6900-439d-ffb9-71ac50134c98"
      },
      "source": [
        "myArray"
      ],
      "execution_count": 21,
      "outputs": [
        {
          "output_type": "execute_result",
          "data": {
            "text/plain": [
              "[1, 2, 3, 10000, 4, 2, 4, 6, 78, 3, 7, 3, 46567, 2, 6, 3, 3, 7, 3, 2343]"
            ]
          },
          "metadata": {
            "tags": []
          },
          "execution_count": 21
        }
      ]
    },
    {
      "cell_type": "code",
      "metadata": {
        "colab": {
          "base_uri": "https://localhost:8080/"
        },
        "id": "n7BFwvgUaK28",
        "outputId": "b62a7029-efbe-4400-bf5d-83bfbebe2931"
      },
      "source": [
        "myArray.pop(5)"
      ],
      "execution_count": 22,
      "outputs": [
        {
          "output_type": "execute_result",
          "data": {
            "text/plain": [
              "2"
            ]
          },
          "metadata": {
            "tags": []
          },
          "execution_count": 22
        }
      ]
    },
    {
      "cell_type": "code",
      "metadata": {
        "colab": {
          "base_uri": "https://localhost:8080/"
        },
        "id": "pPNG5EfybLYF",
        "outputId": "6fb62f07-0317-44ee-a586-a2b1dd1114bd"
      },
      "source": [
        "myArray"
      ],
      "execution_count": 23,
      "outputs": [
        {
          "output_type": "execute_result",
          "data": {
            "text/plain": [
              "[1, 2, 3, 10000, 4, 4, 6, 78, 3, 7, 3, 46567, 2, 6, 3, 3, 7, 3, 2343]"
            ]
          },
          "metadata": {
            "tags": []
          },
          "execution_count": 23
        }
      ]
    },
    {
      "cell_type": "code",
      "metadata": {
        "id": "6TA4Ij8zbjis"
      },
      "source": [
        "myArray.sort()"
      ],
      "execution_count": 24,
      "outputs": []
    },
    {
      "cell_type": "code",
      "metadata": {
        "colab": {
          "base_uri": "https://localhost:8080/"
        },
        "id": "ZXcus2KecVKM",
        "outputId": "f654a118-9b36-4988-9b3a-602c136b25f4"
      },
      "source": [
        "myArray"
      ],
      "execution_count": 25,
      "outputs": [
        {
          "output_type": "execute_result",
          "data": {
            "text/plain": [
              "[1, 2, 2, 3, 3, 3, 3, 3, 3, 4, 4, 6, 6, 7, 7, 78, 2343, 10000, 46567]"
            ]
          },
          "metadata": {
            "tags": []
          },
          "execution_count": 25
        }
      ]
    },
    {
      "cell_type": "code",
      "metadata": {
        "colab": {
          "base_uri": "https://localhost:8080/"
        },
        "id": "vpCqcjSBcXeL",
        "outputId": "3140cbf6-e52d-493d-f226-9fa2ec1c2d96"
      },
      "source": [
        "myArray.reverse()\n",
        "myArray"
      ],
      "execution_count": 26,
      "outputs": [
        {
          "output_type": "execute_result",
          "data": {
            "text/plain": [
              "[46567, 10000, 2343, 78, 7, 7, 6, 6, 4, 4, 3, 3, 3, 3, 3, 3, 2, 2, 1]"
            ]
          },
          "metadata": {
            "tags": []
          },
          "execution_count": 26
        }
      ]
    },
    {
      "cell_type": "code",
      "metadata": {
        "colab": {
          "base_uri": "https://localhost:8080/"
        },
        "id": "Xw782Ebxce9Q",
        "outputId": "fcee5f1d-c2d3-4e74-9046-e173e3532c93"
      },
      "source": [
        "myArray.count(4)"
      ],
      "execution_count": 27,
      "outputs": [
        {
          "output_type": "execute_result",
          "data": {
            "text/plain": [
              "2"
            ]
          },
          "metadata": {
            "tags": []
          },
          "execution_count": 27
        }
      ]
    },
    {
      "cell_type": "markdown",
      "metadata": {
        "id": "J9iPySRu83qY"
      },
      "source": [
        "# **Shift Left k Cells**\n",
        "Consider an array named source. Write a method/function named shiftLeft( source, k) that shifts all the elements of the source array to the left by 'k' positions. You must execute the method by passing an array and number of cells to be shifted. After calling the method, print the array to show whether the elements have been shifted properly.\n",
        "Example:\n",
        "source=[10,20,30,40,50,60]\n",
        "shiftLeft(source,3)\n",
        "After calling shiftLeft(source,3), printing the array should give the output as: \n",
        " [ 40, 50, 60, 0, 0, 0 ]\n"
      ]
    },
    {
      "cell_type": "code",
      "metadata": {
        "id": "HoezL3l2cj_o",
        "colab": {
          "base_uri": "https://localhost:8080/"
        },
        "outputId": "b042d2ca-d28a-4261-cf91-5a1bc7fb501e"
      },
      "source": [
        "source=[10,20,30,40,50,60,70,74,57,245,8645,34534,65757,879]\n",
        "\n",
        "def shiftLeft(source,x):\n",
        "  slice1=source[:x]\n",
        "  slice2= source[x:]\n",
        "  for i in range(len(slice1)):\n",
        "    slice1[i]=0\n",
        "  return print(slice2+slice1)\n",
        "  \n",
        "shiftLeft(source,7)"
      ],
      "execution_count": 28,
      "outputs": [
        {
          "output_type": "stream",
          "text": [
            "[74, 57, 245, 8645, 34534, 65757, 879, 0, 0, 0, 0, 0, 0, 0]\n"
          ],
          "name": "stdout"
        }
      ]
    },
    {
      "cell_type": "markdown",
      "metadata": {
        "id": "4hoBuetl_BCn"
      },
      "source": [
        "# **Rotate Left k cells**\n",
        " Consider an array named source. Write a method/function named rotateLeft( source, k) that rotates all the elements of the source array to the left by 'k' positions. You must execute the method by passing an array and number of cells to be shifted. After calling the method, print the array to show whether the elements have been shifted properly.\n",
        "Example:\n",
        "source=[10,20,30,40,50,60]\n",
        "rotateLeft(source,3)\n",
        "After calling rotateLeft(source,3), printing the array should give the output as: \n",
        " [ 40, 50, 60, 10, 20, 30]\n"
      ]
    },
    {
      "cell_type": "code",
      "metadata": {
        "colab": {
          "base_uri": "https://localhost:8080/"
        },
        "id": "Wun9cIW99vnE",
        "outputId": "616f9324-1034-44cb-ff13-f1934aa6d97d"
      },
      "source": [
        "source=[10,20,30,40,50,60]\n",
        "\n",
        "def rotateLeft(source,x):\n",
        "  slice1=source[:x]\n",
        "  slice2= source[x:]\n",
        "  print(slice2+slice1)\n",
        "  \n",
        "rotateLeft(source,3)"
      ],
      "execution_count": 29,
      "outputs": [
        {
          "output_type": "stream",
          "text": [
            "[40, 50, 60, 10, 20, 30]\n"
          ],
          "name": "stdout"
        }
      ]
    },
    {
      "cell_type": "markdown",
      "metadata": {
        "id": "T64oVtabbpMx"
      },
      "source": [
        ""
      ]
    },
    {
      "cell_type": "markdown",
      "metadata": {
        "id": "ZKQBtarYBXYw"
      },
      "source": [
        "# **Remove an element from an array**\n",
        " Consider an array named source. Write a method/function named remove( source, size, idx) that removes the element in index idx of the source array. You must execute the method by passing an array, its size and the idx( that is the index of the element to be removed). After calling the method, print the array to show whether the element of that particular index has been removed properly.\n",
        "Example:\n",
        "source=[10,20,30,40,50,0,0]\n",
        "remove(source,5,2)\n",
        "After calling remove(source,5,2) , printing the array should give the output as: \n",
        " [ 10,20,40,50,0,0,0]\n"
      ]
    },
    {
      "cell_type": "code",
      "metadata": {
        "colab": {
          "base_uri": "https://localhost:8080/"
        },
        "id": "pR5uIaQu_Ybw",
        "outputId": "a095493d-7cb5-4b99-870a-963030bcb5c5"
      },
      "source": [
        "def remove(list1, pos):\n",
        "    newlist = []\n",
        "  \n",
        "    # traverse in the list\n",
        "    for x in range(len(list1)):\n",
        "          \n",
        "        # if index not equal to pos\n",
        "        if x != pos:\n",
        "            newlist.append(list1[x])\n",
        "    if (len(list1)!=len(newlist)):\n",
        "      for x in range(len(list1)-len(newlist)):\n",
        "        newlist.append(0)\n",
        "    print(*newlist)\n",
        "  \n",
        "# driver code\n",
        "list1 = [10,20,30,40,50,0,0]\n",
        "pos = 2\n",
        "remove(list1, pos)"
      ],
      "execution_count": 30,
      "outputs": [
        {
          "output_type": "stream",
          "text": [
            "10 20 40 50 0 0 0\n"
          ],
          "name": "stdout"
        }
      ]
    },
    {
      "cell_type": "code",
      "metadata": {
        "id": "czbUTo7GCep5"
      },
      "source": [
        ""
      ],
      "execution_count": 30,
      "outputs": []
    },
    {
      "cell_type": "markdown",
      "metadata": {
        "id": "Fc0_gyPccWJw"
      },
      "source": [
        "# **Shift Left k Cells**\n",
        "\n",
        "Consider an array named source. Write a method/function named shiftLeft( source, k) that shifts all the elements of the source array to the left by 'k' positions. You must execute the method by passing an array and number of cells to be shifted. After calling the method, print the array to show whether the elements have been shifted properly.\n",
        "Example:\n",
        "source=[10,20,30,40,50,60]\n",
        "shiftLeft(source,3)\n",
        "After calling shiftLeft(source,3), printing the array should give the output as: \n",
        " [ 40, 50, 60, 0, 0, 0 ]\n"
      ]
    },
    {
      "cell_type": "code",
      "metadata": {
        "colab": {
          "base_uri": "https://localhost:8080/"
        },
        "id": "ODhJ4kJfccwq",
        "outputId": "0045abee-477e-4c55-9900-afd61cb43907"
      },
      "source": [
        "source=[10,20,30,40,50,60]\n",
        "\n",
        "def shiftLeft(source, k):\n",
        "  slice1 = source[:k]\n",
        "  slice2 = source[k:]\n",
        "  # print(slice1)\n",
        "  # print(slice2)\n",
        "  for i in range(len(slice1)):\n",
        "    slice1[i]=0\n",
        "  return print(slice2+slice1)\n",
        "\n",
        "shiftLeft(source,3)\n"
      ],
      "execution_count": 31,
      "outputs": [
        {
          "output_type": "stream",
          "text": [
            "[40, 50, 60, 0, 0, 0]\n"
          ],
          "name": "stdout"
        }
      ]
    },
    {
      "cell_type": "code",
      "metadata": {
        "colab": {
          "base_uri": "https://localhost:8080/"
        },
        "id": "dGwMPknwZTjU",
        "outputId": "563820f4-dabe-4f1c-a10f-290d5b7b2c52"
      },
      "source": [
        "##Shift right k cells\n",
        "source=[10,20,30,40,50,60]\n",
        "\n",
        "def shiftRight(source, k):\n",
        "  slice1 = source[:k]\n",
        "  slice2 = source[k:]\n",
        "  # print(slice1)\n",
        "  # print(slice2)\n",
        "  for i in range(len(slice2)):\n",
        "    slice2[i]=0\n",
        "  return print(slice2+slice1)\n",
        "\n",
        "shiftRight(source,3)"
      ],
      "execution_count": 32,
      "outputs": [
        {
          "output_type": "stream",
          "text": [
            "[0, 0, 0, 10, 20, 30]\n"
          ],
          "name": "stdout"
        }
      ]
    },
    {
      "cell_type": "markdown",
      "metadata": {
        "id": "26skuXeWf-qf"
      },
      "source": [
        "# **Rotate Left k cells**\n",
        " Consider an array named source. Write a method/function named rotateLeft( source, k) that rotates all the elements of the source array to the left by 'k' positions. You must execute the method by passing an array and number of cells to be shifted. After calling the method, print the array to show whether the elements have been shifted properly.\n",
        "Example:\n",
        "source=[10,20,30,40,50,60]\n",
        "rotateLeft(source,3)\n",
        "After calling rotateLeft(source,3), printing the array should give the output as: \n",
        " [ 40, 50, 60, 10, 20, 30]\n"
      ]
    },
    {
      "cell_type": "code",
      "metadata": {
        "colab": {
          "base_uri": "https://localhost:8080/"
        },
        "id": "u6_Ye48KfJHP",
        "outputId": "93c9271a-bf7a-497f-926f-ba225f3ca8c0"
      },
      "source": [
        "source=[10,20,30,40,50,60]\n",
        "\n",
        "def shiftLeft(source, k):\n",
        "  slice1 = source[:k]\n",
        "  slice2 = source[k:]\n",
        "  print(slice2+slice1)\n",
        "\n",
        "shiftLeft(source,3)"
      ],
      "execution_count": 33,
      "outputs": [
        {
          "output_type": "stream",
          "text": [
            "[40, 50, 60, 10, 20, 30]\n"
          ],
          "name": "stdout"
        }
      ]
    },
    {
      "cell_type": "markdown",
      "metadata": {
        "id": "3uJ6HppAgtsg"
      },
      "source": [
        "# **Remove an element from an array**\n",
        " Consider an array named source. Write a method/function named remove( source, size, idx) that removes the element in index idx of the source array. You must execute the method by passing an array, its size and the idx( that is the index of the element to be removed). After calling the method, print the array to show whether the element of that particular index has been removed properly.\n",
        "Example:\n",
        "source=[10,20,30,40,50,0,0]\n",
        "remove(source,5,2)\n",
        "After calling remove(source,5,2) , printing the array should give the output as: \n",
        " [ 10,20,40,50,0,0,0]\n"
      ]
    },
    {
      "cell_type": "code",
      "metadata": {
        "colab": {
          "base_uri": "https://localhost:8080/"
        },
        "id": "kzHFATqygkFT",
        "outputId": "82ee943b-51e7-4131-d13b-70a81956a779"
      },
      "source": [
        "def remove(source,array_size,idx):\n",
        "  newArray = []\n",
        "\n",
        "  #traverse in array\n",
        "  for x in range(len(source)):\n",
        "    if x != idx:\n",
        "      newArray.append(source[x])\n",
        "  \n",
        "  newArray.append(0)\n",
        "  print(newArray)\n",
        "\n",
        "\n",
        "source=[10,20,30,40,50,0,0]\n",
        "remove(source,len(source),3)"
      ],
      "execution_count": 34,
      "outputs": [
        {
          "output_type": "stream",
          "text": [
            "[10, 20, 30, 50, 0, 0, 0]\n"
          ],
          "name": "stdout"
        }
      ]
    },
    {
      "cell_type": "markdown",
      "metadata": {
        "id": "7qU_8ktjr_Sk"
      },
      "source": [
        "# **Splitting an Array**\n",
        "\n",
        "\n",
        "\n",
        "\n",
        "Suppose the elements of an array A containing positive integers, denote the weights in kilograms. And we have a beam balance. We want to put the weights on both pans of the balance in such a way that for some index 0 < i < A.length - 1, all values starting from A[0], A[1], upto A[ i - 1], should be on the left pan. And all values starting from A[ i ] upto A[ A.length - 1] should be on the right pan and the left and right pan should be balanced. If such an i exists, return true. Else, return false. \n",
        "Input: [1, 1, 1, 2, 1]\tOutput : true\n",
        "Explanation: (summation of [1, 1, 1] = summation of [2,1])\n",
        "Input: [2, 1, 1, 2, 1] Output: false\n",
        "Input: [10, 3, 10, 2, 1]  Output: true \n",
        "Explanation: (summation of [10, 3] = summation of [10,2,1]))\n"
      ]
    },
    {
      "cell_type": "code",
      "metadata": {
        "colab": {
          "base_uri": "https://localhost:8080/"
        },
        "id": "GAvyZx5Uc2DT",
        "outputId": "6a838764-06b5-4f7c-e403-d663e1657c20"
      },
      "source": [
        "beamBalance=[1, 1, 1, 2, 1]\n",
        "\n",
        "def balanceMaker(ar,k):\n",
        "  leftSum = 0\n",
        "  rightSum = 0\n",
        "\n",
        "  for i in range(k):\n",
        "    leftSum = leftSum + ar[i]\n",
        "  for i in range(k,len(ar)):\n",
        "    rightSum = rightSum + ar[i]\n",
        "\n",
        "  # print(leftSum)\n",
        "  # print(rightSum)\n",
        "\n",
        "  if leftSum == rightSum:\n",
        "    return print(\"true\")\n",
        "  else:\n",
        "    return print(\"false\")\n",
        "\n",
        "\n",
        "\n",
        "balanceMaker(beamBalance,3)\n"
      ],
      "execution_count": 35,
      "outputs": [
        {
          "output_type": "stream",
          "text": [
            "true\n"
          ],
          "name": "stdout"
        }
      ]
    },
    {
      "cell_type": "markdown",
      "metadata": {
        "id": "N4kAxh0ZaaHE"
      },
      "source": [
        "# **FInd the maximum repeating number in an array**"
      ]
    },
    {
      "cell_type": "code",
      "metadata": {
        "colab": {
          "base_uri": "https://localhost:8080/"
        },
        "id": "Qvj__0XcdqHp",
        "outputId": "907a5b09-9f1e-4a5a-fe1c-68a021434c8a"
      },
      "source": [
        "arr=[2,3,4,6,3,56,3,2,2,2,4,5,2,2,3,3,3,3,3,3,3]\n",
        "arr.count(3)"
      ],
      "execution_count": 36,
      "outputs": [
        {
          "output_type": "execute_result",
          "data": {
            "text/plain": [
              "10"
            ]
          },
          "metadata": {
            "tags": []
          },
          "execution_count": 36
        }
      ]
    },
    {
      "cell_type": "code",
      "metadata": {
        "id": "c3zmIgsTtvCM"
      },
      "source": [
        ""
      ],
      "execution_count": 36,
      "outputs": []
    },
    {
      "cell_type": "code",
      "metadata": {
        "colab": {
          "base_uri": "https://localhost:8080/"
        },
        "id": "v0iYXTRLXB4d",
        "outputId": "56d0b9a9-da19-40e9-a20e-8fae0969af82"
      },
      "source": [
        "arr=[2,3,4,6,3,56,3,2,2,2,4,5,2,2,3,3,3,3,3,3,3]\n",
        "#naive approch\n",
        "#brute force \n",
        "def maxRepeating(arr):\n",
        "  counter = 0\n",
        "  number = arr[0]\n",
        "\n",
        "  for i in arr:\n",
        "    current_frequency = arr.count(i)\n",
        "    if(current_frequency> counter):\n",
        "      counter = current_frequency\n",
        "      number = i\n",
        "  return number\n",
        "\n",
        "print(maxRepeating(arr))\n"
      ],
      "execution_count": 37,
      "outputs": [
        {
          "output_type": "stream",
          "text": [
            "3\n"
          ],
          "name": "stdout"
        }
      ]
    },
    {
      "cell_type": "markdown",
      "metadata": {
        "id": "L07vIRYRgdEN"
      },
      "source": [
        "# **Max Bunch Count**(HW)\n",
        "\n",
        "\n",
        "A \"bunch\" in an array is a consecutive chain of two or more adjacent elements of the same value. Write a method that returns the number of elements in the largest bunch found in the given array.\n",
        "Input: [1, 2, 2, 3, 4, 4, 4]   Output: 3\n",
        "Explanation: There are two bunches here {2,2} and {4,4,4}. The largest bunch is {4,4,4} containing 3 elements so 3 is returned.\n",
        "Input: [1,1,2, 2, 1, 1,1,1] Output:4\n",
        " Explanation: There are three bunches here {1,1} and {2,2} and {1,1,1,1}. The largest bunch is {1,1,1,1} containing 4 elements so 4 is returned.\n"
      ]
    },
    {
      "cell_type": "code",
      "metadata": {
        "id": "Gj7HmtBxjl7b",
        "colab": {
          "base_uri": "https://localhost:8080/"
        },
        "outputId": "9927823d-c5c1-412e-bd29-2b74bb32de33"
      },
      "source": [
        "arr= [1,1,2, 2, 1, 1,1,1]\n",
        "maximum = 0\n",
        "counter =1 \n",
        "i =1\n",
        "# n= array size\n",
        "n= len(arr)\n",
        "while(i<n):\n",
        "    if arr[i-1] == arr[i]:\n",
        "        counter = counter +1\n",
        "        if (maximum<counter):\n",
        "            maximum = counter\n",
        "        else:\n",
        "            counter = 1\n",
        "    i=i+1\n",
        "    print()\n",
        " #return maximum\n"
      ],
      "execution_count": 38,
      "outputs": [
        {
          "output_type": "stream",
          "text": [
            "\n",
            "\n",
            "\n",
            "\n",
            "\n",
            "\n",
            "\n"
          ],
          "name": "stdout"
        }
      ]
    },
    {
      "cell_type": "markdown",
      "metadata": {
        "id": "TcDEXYjkhHFZ"
      },
      "source": [
        "# **Repetition**(HW)\n",
        " Write a method that takes in an array as a parameter and counts the repetition of each element. That is, if an element has appeared in the array more than once, then its ‘repetition’ is its number of occurrences. The method returns true if there are at least two elements with the same number of ‘repetition’. Otherwise, return false.\n",
        "Input: {4,5,6,6,4,3,6,4} Output: True\n",
        "Explanation: Two numbers repeat in this array: 4 and 6. 4 has a repetition of 3, 6 has a repetition of 3. Since two numbers have the same repetition output is True.\n",
        "Input: {3,4,6,3,4,7,4,6,8,6,6} Output: False\n",
        "Explanation: Three numbers repeat in this array:3,4 and 6 .3 has a repetition of 2, 4 has a repetition of 3, 6 has a repetition of 4. Since no two numbers have the same repetition output is False.\n"
      ]
    },
    {
      "cell_type": "code",
      "metadata": {
        "id": "NDt2XtUNffH3"
      },
      "source": [
        ""
      ],
      "execution_count": 38,
      "outputs": []
    },
    {
      "cell_type": "markdown",
      "metadata": {
        "id": "ounxiPlb5HLa"
      },
      "source": [
        "# **Array Series(HW)**"
      ]
    },
    {
      "cell_type": "code",
      "metadata": {
        "id": "BFK7cqcVQ6-q"
      },
      "source": [
        ""
      ],
      "execution_count": 38,
      "outputs": []
    },
    {
      "cell_type": "markdown",
      "metadata": {
        "id": "qe-uaU5YL_t9"
      },
      "source": [
        "# **Circular array**\n",
        "\n",
        "An array is called circular if we consider the first element as next of the last element. Circular arrays are used to implement queue (Refer to this and this).\n",
        "An example problem : \n",
        "Suppose n people are sitting at a circular table with names A, B, C, D, … Given a name, we need to print all n people (in order) starting from the given name. ![circulararrayrepresentation.PNG](data:image/png;base64,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)\n",
        "\n",
        "For example, consider 6 people A B C D E F and given name as ‘D’. People sitting in a circular manner starting from D are D E F A B C.\n",
        "A simple solution is to create an auxiliary array of size 2*n and store it in another array. For example for 6 people, we create below the auxiliary array. \n",
        "A B C D E F A B C D E F \n",
        "Now for any given index, we simply print n elements starting from it. For example, we print the following 6. \n",
        "A B C D E F A B C D E F "
      ]
    },
    {
      "cell_type": "markdown",
      "metadata": {
        "id": "kbNxEWO2UEGX"
      },
      "source": [
        "A B C D E F A B C D E F\n"
      ]
    },
    {
      "cell_type": "code",
      "metadata": {
        "id": "knsq0eN1MQTx",
        "colab": {
          "base_uri": "https://localhost:8080/"
        },
        "outputId": "91f1a165-8c75-4990-e3bc-c3863cd09a70"
      },
      "source": [
        "# Time complexity O(n) and space complexity 2*n\n",
        "\n",
        "def printCircular(arr,n,ind):\n",
        "  brr = [None] * (2*n)\n",
        "  i = 0\n",
        "\n",
        "  while i<n:\n",
        "    brr[i] = brr[n+i] = arr[i]\n",
        "    i = i+1\n",
        "  i = ind\n",
        "\n",
        "  ## print from ind-nth index to (n+i)th index\n",
        "  while i<(n+ind):\n",
        "    print(brr[i], end=\" \")\n",
        "    i= i+1\n",
        "\n",
        "\n",
        "\n",
        "#driver code\n",
        "arr = ['C','A','J','P','T','Q']\n",
        "n= len(arr)\n",
        "printCircular(arr,n,3)\n",
        "#C,A,J,P,T,Q,C,A,J,P,T,Q"
      ],
      "execution_count": 39,
      "outputs": [
        {
          "output_type": "stream",
          "text": [
            "P T Q C A J "
          ],
          "name": "stdout"
        }
      ]
    },
    {
      "cell_type": "code",
      "metadata": {
        "id": "2EiF85b8z2vr",
        "colab": {
          "base_uri": "https://localhost:8080/"
        },
        "outputId": "313283da-4918-44ea-ffb5-a94693a7f007"
      },
      "source": [
        "# Time complexity O(n) and space complexity O(1)\n",
        "\n",
        "\n",
        "def prints(a,n,ind):\n",
        "    i = ind\n",
        "    while i<n+ind:\n",
        "        print(a[(i%n)], end = \" \")\n",
        "        i = i + 1\n",
        "        \n",
        "        \n",
        "\n",
        "a = ['A', 'B', 'C', 'D', 'E', 'F']\n",
        "n = len(a)\n",
        "prints(a,n,3)\n",
        "\n",
        "  \n",
        "\n"
      ],
      "execution_count": 40,
      "outputs": [
        {
          "output_type": "stream",
          "text": [
            "D E F A B C "
          ],
          "name": "stdout"
        }
      ]
    },
    {
      "cell_type": "code",
      "metadata": {
        "id": "NulN2bGqVKxO",
        "colab": {
          "base_uri": "https://localhost:8080/"
        },
        "outputId": "7f3ca2f4-bffd-4a85-d376-57b38d389622"
      },
      "source": [
        "# BiG \"O\" notation\n",
        "# ১. আমার অ্যালগোরিদম কি নির্ধারিত সময়ের মধ্যে ফলাফল এনে দিবে?\n",
        "# ২. সর্বোচ্চ কত বড় ইনপুটের জন্য আমার অ্যালগোরিদম কাজ করবে?\n",
        "# ৩. আমার অ্যালগোরিদম কতখানি মেমরি ব্যবহার করছে?\n",
        "\n",
        "def MyAlgo(n):\n",
        "  x = n+10\n",
        "  x=x/2\n",
        "  return x\n",
        "\n",
        "print(MyAlgo(234802389465895))\n",
        "\n",
        "# O(1)\n",
        "# অ্যালগোরিদমের কমপ্লেক্সিটি হলো O(1),এর মানে হলো ইনপুটের আকার যেমনই হোকনা কেন একটি constant টাইমে অ্যালগোরিদমটি কাজ করা শেষ করবে।"
      ],
      "execution_count": 41,
      "outputs": [
        {
          "output_type": "stream",
          "text": [
            "117401194732952.5\n"
          ],
          "name": "stdout"
        }
      ]
    },
    {
      "cell_type": "code",
      "metadata": {
        "id": "8MBuhoFeZPGs",
        "colab": {
          "base_uri": "https://localhost:8080/"
        },
        "outputId": "0892cf83-8b5c-4a70-ed7a-5199df1bed70"
      },
      "source": [
        "def Myalgo2(n):\n",
        "  sum = 0\n",
        "  for i in range(n):\n",
        "    sum = sum + i\n",
        "    if(sum>=1000):\n",
        "      break\n",
        "  return sum\n",
        "\n",
        "print(Myalgo2(300))\n",
        "# O(1)"
      ],
      "execution_count": 42,
      "outputs": [
        {
          "output_type": "stream",
          "text": [
            "1035\n"
          ],
          "name": "stdout"
        }
      ]
    },
    {
      "cell_type": "code",
      "metadata": {
        "id": "biEVBhi8adad",
        "colab": {
          "base_uri": "https://localhost:8080/"
        },
        "outputId": "2fd28f22-0e20-41e0-e2c2-087d84f2788c"
      },
      "source": [
        "def Myalgo2(n):\n",
        "  sum = 0\n",
        "  for i in range(n):\n",
        "    sum = sum + i\n",
        "    # if(sum>=1000):\n",
        "    #   break\n",
        "  return sum\n",
        "\n",
        "print(Myalgo2(500))\n",
        "# O(n)\n",
        "# কমপ্লেক্সিটি O(n) কারণ এখানে লুপটি n বার চলবে।\n",
        "# Best Case , Worst Case\n",
        "[3,2,1,4,6,7,8,9,0,4,756,78,45,654,87]\n",
        "# worst case এ যতগুলো ইনস্ট্রাকশন থাকবে সেটাই আমাদের কমপ্লেক্সিটি।"
      ],
      "execution_count": 43,
      "outputs": [
        {
          "output_type": "stream",
          "text": [
            "124750\n"
          ],
          "name": "stdout"
        },
        {
          "output_type": "execute_result",
          "data": {
            "text/plain": [
              "[3, 2, 1, 4, 6, 7, 8, 9, 0, 4, 756, 78, 45, 654, 87]"
            ]
          },
          "metadata": {
            "tags": []
          },
          "execution_count": 43
        }
      ]
    },
    {
      "cell_type": "code",
      "metadata": {
        "id": "qxKlj5s-uJ0G",
        "colab": {
          "base_uri": "https://localhost:8080/"
        },
        "outputId": "08e7ff9b-9251-4280-ad5f-221a58a3641a"
      },
      "source": [
        "def Myalgo3(n):\n",
        "  sum = 0\n",
        "  for i in range(n):\n",
        "    j = i\n",
        "    while(j<=n):\n",
        "      sum = sum+ i+j\n",
        "      j = j+1\n",
        "\n",
        "  return sum\n",
        "print(Myalgo3(30))"
      ],
      "execution_count": 44,
      "outputs": [
        {
          "output_type": "stream",
          "text": [
            "14820\n"
          ],
          "name": "stdout"
        }
      ]
    },
    {
      "cell_type": "markdown",
      "metadata": {
        "id": "Qq0Zx0MHdUPN"
      },
      "source": [
        "NxN\n",
        "O(n**2)\n",
        "\n",
        "![bigo.jpg](data:image/jpeg;base64,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)"
      ]
    },
    {
      "cell_type": "code",
      "metadata": {
        "id": "kj6ZAGs2cive",
        "colab": {
          "base_uri": "https://localhost:8080/"
        },
        "outputId": "e298213e-c4d8-492d-f3f9-58d8409c1fc2"
      },
      "source": [
        "# Array Series\n",
        "\n",
        "def ArraySeries(n):\n",
        "  arr = [None]*(n*n)\n",
        "  k = 0\n",
        "  x=n\n",
        "  c=1\n",
        "  while(k<n*n):\n",
        "    for i in range(x-1):\n",
        "      arr[k]=0\n",
        "      k=k+1\n",
        "    i=n\n",
        "    while(i>=x):\n",
        "      arr[k]=c\n",
        "      k= k+1\n",
        "      c = c-1\n",
        "      i= i-1\n",
        "    x=x-1\n",
        "    c=n-x+1\n",
        "  return arr\n",
        "\n",
        "\n",
        "print(ArraySeries(3))"
      ],
      "execution_count": 45,
      "outputs": [
        {
          "output_type": "stream",
          "text": [
            "[0, 0, 1, 0, 2, 1, 3, 2, 1]\n"
          ],
          "name": "stdout"
        }
      ]
    },
    {
      "cell_type": "markdown",
      "metadata": {
        "id": "j87QqYMFoDs-"
      },
      "source": [
        "# **Creation of Linked List**"
      ]
    },
    {
      "cell_type": "code",
      "metadata": {
        "id": "TRyJpMu0yJJh",
        "colab": {
          "base_uri": "https://localhost:8080/"
        },
        "outputId": "315fe145-3cc8-4ceb-f8aa-b7a730d03ffa"
      },
      "source": [
        "class Node:\n",
        "    def __init__(self, dataval=None):\n",
        "        self.dataval = dataval\n",
        "        self.nextval = None\n",
        "\n",
        "class SLinkedList:\n",
        "    def __init__(self):\n",
        "        self.headval = None\n",
        "\n",
        "    # Travversing linked list\n",
        "    def listprint(self):\n",
        "        printval = self.headval\n",
        "        while printval is not None:\n",
        "            print (printval.dataval)\n",
        "            printval = printval.nextval\n",
        "\n",
        "list = SLinkedList()\n",
        "list.headval = Node(\"Mon\")\n",
        "e2 = Node(\"Tue\")\n",
        "e3 = Node(\"Wed\")\n",
        "e4 = Node(\"Thu\")\n",
        "e5 = Node(\"Fri\")\n",
        "\n",
        "# Link first Node to second node\n",
        "list.headval.nextval = e2\n",
        "\n",
        "# Link second Node to third node\n",
        "e2.nextval = e3\n",
        "e3.nextval= e4\n",
        "e4.nextval= e5\n",
        "\n",
        "\n",
        "list.listprint()"
      ],
      "execution_count": 46,
      "outputs": [
        {
          "output_type": "stream",
          "text": [
            "Mon\n",
            "Tue\n",
            "Wed\n",
            "Thu\n",
            "Fri\n"
          ],
          "name": "stdout"
        }
      ]
    },
    {
      "cell_type": "markdown",
      "metadata": {
        "id": "cvt_0GNj-AE_"
      },
      "source": [
        "# **MAX BUNCH COUNT**"
      ]
    },
    {
      "cell_type": "code",
      "metadata": {
        "id": "y25mYblRpUiF",
        "colab": {
          "base_uri": "https://localhost:8080/"
        },
        "outputId": "14924837-194c-453f-889a-eb80191bb6de"
      },
      "source": [
        "def maxBunch(bunch,n):\n",
        "  max = 0\n",
        "  count =1\n",
        "  i = 1\n",
        "  while(i<n):\n",
        "    if bunch[i-1]==bunch[i]:\n",
        "      count = count+1\n",
        "      if max<count:\n",
        "        max=count\n",
        "    else:\n",
        "      count =1\n",
        "    i = i+1\n",
        "  return max\n",
        "\n",
        "bunch = [1,1,2, 2, 1, 1,1,1]\n",
        "n = len(bunch)\n",
        "\n",
        "maximumBunchNumber = maxBunch(bunch,n)\n",
        "print(maximumBunchNumber)\n"
      ],
      "execution_count": 47,
      "outputs": [
        {
          "output_type": "stream",
          "text": [
            "4\n"
          ],
          "name": "stdout"
        }
      ]
    },
    {
      "cell_type": "markdown",
      "metadata": {
        "id": "wpnLYOjiBW3P"
      },
      "source": [
        "# **Repeatation**"
      ]
    },
    {
      "cell_type": "code",
      "metadata": {
        "colab": {
          "base_uri": "https://localhost:8080/"
        },
        "id": "E9CsRsvFA0Dn",
        "outputId": "0078364c-a718-44a8-9f52-c116c4dd10d1"
      },
      "source": [
        "def repetition(X):\n",
        "    a = 0\n",
        "    b = [0] * len(X)\n",
        "    \n",
        "    for i in X:\n",
        "        b[i] += 1\n",
        "    \n",
        "    for j in b:\n",
        "        if j > 1:\n",
        "            for k in range(len(b)):\n",
        "                if j == b[k]:\n",
        "                    a += 1\n",
        "            \n",
        "            if a >= 2:\n",
        "                break\n",
        "            \n",
        "            else:\n",
        "                a = 0\n",
        "        \n",
        "        else:\n",
        "            continue\n",
        "\n",
        "    if a >= 2:\n",
        "        print(\"True\")\n",
        "    \n",
        "    else:\n",
        "        print(\"False\")\n",
        "\n",
        "X = [2,3,4,1,3,6,5,5,5]\n",
        "repetition(X)"
      ],
      "execution_count": 48,
      "outputs": [
        {
          "output_type": "stream",
          "text": [
            "False\n"
          ],
          "name": "stdout"
        }
      ]
    },
    {
      "cell_type": "code",
      "metadata": {
        "colab": {
          "base_uri": "https://localhost:8080/"
        },
        "id": "n157WMVEbODx",
        "outputId": "03fde3b1-d98c-45e4-fa97-b4c666d1c56d"
      },
      "source": [
        "##intersection\n",
        "def intersection(a1,a2,s1,s2,l1,l2):\n",
        "  intersecting_ele = []\n",
        "  for x in range(s1,s1+s1):\n",
        "    for y in range(s2,s2+s2):\n",
        "      if a1[x%len(a1)] == a2[y%len(a2)]:\n",
        "        intersecting_ele.append(a1[x%len(a1)])\n",
        "  return sorted(set(intersecting_ele), key=intersecting_ele.index) ## Returns list of common elements.\n",
        "\n",
        "a1 = [40,50,0,0,0,10,20,30]\n",
        "s1 = 5\n",
        "l1 = 5\n",
        "a2 = [10,20,5,0,0,0,0,0,55,40,15,25]\n",
        "s2 = 8\n",
        "l2 = 7\n",
        "print(intersection(a1,a2,s1,s2,l1,l2))\n"
      ],
      "execution_count": 49,
      "outputs": [
        {
          "output_type": "stream",
          "text": [
            "[10, 20, 40]\n"
          ],
          "name": "stdout"
        }
      ]
    },
    {
      "cell_type": "markdown",
      "metadata": {
        "id": "ZjypcHfEgdOH"
      },
      "source": [
        "Write a method/function that takes in a circular array, its size and start index and finds whether the elements in the array form a palindrome or not. Return true if the elements form a palindrome, otherwise, return false. Example:\n",
        "\n",
        "Input: [20,10,0,0,0,10,20,30] (start =5, size=5) Output: True.\n",
        "\n",
        "Input:[10,20,0,0,0,10,20,30] (start =5, size=5) Output: False"
      ]
    },
    {
      "cell_type": "code",
      "metadata": {
        "colab": {
          "base_uri": "https://localhost:8080/"
        },
        "id": "NJaTjZrPcHb0",
        "outputId": "652b239c-8edb-4c72-cff8-5d628d13f70f"
      },
      "source": [
        "#palindrome\n",
        "\n",
        "def palindrome(arr, n):\n",
        "    flag = 0;\n",
        "    i = 0;\n",
        "    while (i <= n // 2 and n != 0):\n",
        "        if (arr[i] != arr[n - i - 1]):\n",
        "            flag = 1;\n",
        "            break;\n",
        "        i += 1;\n",
        "    if (flag == 1):\n",
        "        print(\"Flase\");\n",
        "    else:\n",
        "        print(\"True\");\n",
        " \n",
        "# Driver code.\n",
        "arr = [ 20,10,0,0,0,10,20,30 ];\n",
        "n = len(arr);\n",
        " \n",
        "palindrome(arr, n);"
      ],
      "execution_count": 50,
      "outputs": [
        {
          "output_type": "stream",
          "text": [
            "Flase\n"
          ],
          "name": "stdout"
        }
      ]
    },
    {
      "cell_type": "markdown",
      "metadata": {
        "id": "qB7wASOSqyOj"
      },
      "source": [
        "# **Creation of linked list**"
      ]
    },
    {
      "cell_type": "code",
      "metadata": {
        "id": "VWAf-jMocXMU",
        "colab": {
          "base_uri": "https://localhost:8080/"
        },
        "outputId": "b39bfe70-cffd-48f7-e8c3-c4ff741a1206"
      },
      "source": [
        "class Node:\n",
        "  def __init__(self,dataval = None):\n",
        "    self.dataval = dataval\n",
        "    self.nextval = None\n",
        "\n",
        "class LinkedList:\n",
        "  def __init__(self):\n",
        "    self.headval = None\n",
        "  \n",
        "  ##function to add in between of two node\n",
        "  def AddBetween(self,middle_node,newData):\n",
        "    if middle_node is None:\n",
        "      print(\"Enter a valid number\")\n",
        "      return\n",
        "    \n",
        "    NewNode = Node(newData)\n",
        "    NewNode.nextval = middle_node.nextval\n",
        "    middle_node.nextval = NewNode\n",
        "\n",
        "\n",
        "    ##for print\n",
        "  def printList(self):\n",
        "    printval = self.headval\n",
        "    while printval is not None:\n",
        "      print(printval.dataval)\n",
        "      printval = printval.nextval\n",
        "\n",
        "list1  = LinkedList()\n",
        "list1.headval = Node(\"Kua\")\n",
        "\n",
        "e2 = Node(\"Tua\")\n",
        "e3 = Node(\"Bua\")\n",
        "e4 = Node(\"Dua\")\n",
        "\n",
        "list1.headval.nextval = e2\n",
        "e2.nextval = e3\n",
        "e3.nextval = e4\n",
        "\n",
        "list1.AddBetween(list1.headval.nextval,\"Sua\")\n",
        "\n",
        "list1.printList()"
      ],
      "execution_count": 51,
      "outputs": [
        {
          "output_type": "stream",
          "text": [
            "Kua\n",
            "Tua\n",
            "Sua\n",
            "Bua\n",
            "Dua\n"
          ],
          "name": "stdout"
        }
      ]
    },
    {
      "cell_type": "code",
      "metadata": {
        "colab": {
          "base_uri": "https://localhost:8080/"
        },
        "id": "9qhzgAdjJDZE",
        "outputId": "5ba083b9-66aa-41b0-ef01-9415230d245b"
      },
      "source": [
        "class Node:\n",
        "    def __init__(self, data=None):\n",
        "        self.data = data\n",
        "        self.next = None\n",
        "\n",
        "class SLinkedList:\n",
        "    def __init__(self):\n",
        "        self.head = None\n",
        "\n",
        "    def Atbegining(self, data_in):\n",
        "        NewNode = Node(data_in)\n",
        "        NewNode.next = self.head\n",
        "        self.head = NewNode\n",
        "\t\t\n",
        "# Function to remove node\n",
        "    def RemoveNode(self, Removekey):\n",
        "\n",
        "        HeadVal = self.head\n",
        "\n",
        "        if (HeadVal is not None):\n",
        "            if (HeadVal.data == Removekey):\n",
        "                self.head = HeadVal.next\n",
        "                HeadVal = None\n",
        "                return\n",
        "\n",
        "        while (HeadVal is not None):\n",
        "            if HeadVal.data == Removekey:\n",
        "                break\n",
        "            prev = HeadVal\n",
        "            HeadVal = HeadVal.next\n",
        "\n",
        "        if (HeadVal == None):\n",
        "            return\n",
        "\n",
        "        prev.next = HeadVal.next\n",
        "\n",
        "        HeadVal = None\n",
        "\n",
        "    def LListprint(self):\n",
        "        printval = self.head\n",
        "        while (printval):\n",
        "            print(printval.data),\n",
        "            printval = printval.next\n",
        "\n",
        "\n",
        "llist = SLinkedList()\n",
        "llist.Atbegining(\"Mon\")\n",
        "llist.Atbegining(\"Tue\")\n",
        "llist.Atbegining(\"Wed\")\n",
        "llist.Atbegining(\"Thu\")\n",
        "llist.RemoveNode(\"Wed\")\n",
        "llist.LListprint()"
      ],
      "execution_count": 52,
      "outputs": [
        {
          "output_type": "stream",
          "text": [
            "Thu\n",
            "Tue\n",
            "Mon\n"
          ],
          "name": "stdout"
        }
      ]
    },
    {
      "cell_type": "markdown",
      "metadata": {
        "id": "_MLeW_jYF1Lu"
      },
      "source": [
        "# **Stack**\n",
        "![Lifo_stack.png](data:image/png;base64,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)"
      ]
    },
    {
      "cell_type": "code",
      "metadata": {
        "id": "jrDEu6SJuxcd",
        "colab": {
          "base_uri": "https://localhost:8080/"
        },
        "outputId": "62a5fb76-4c73-4203-ba6e-8f01cee48c03"
      },
      "source": [
        "class Stack:\n",
        "  def __init__(self,MAX_SIZE): #initialize a stack of max size\n",
        "    self.top_pointer = -1 # keep track of top element using this pointer\n",
        "    self.stackList = [None for x in range(MAX_SIZE)] #create a list of none value\n",
        "  \n",
        "  def push(self,new_element):\n",
        "    self.top_pointer = self.top_pointer + 1  #Move the pointer\n",
        "    self.stackList[self.top_pointer] = new_element # add new data to the list\n",
        "\n",
        "  def pop(self):\n",
        "    last_element = self.stackList[self.top_pointer] # keep the last element to a varriable\n",
        "    self.top_pointer = self.top_pointer - 1 #move pointer q step down\n",
        "    return last_element #pop the last element\n",
        "\n",
        "  def peek(self):\n",
        "    return self.stackList[self.top_pointer] # just for checking the top data\n",
        "\n",
        "  def is_empty(self):\n",
        "    return top_pointer == -1 # check if the stack is empty or not\n",
        "\n",
        "\n",
        "tua = Stack(4)\n",
        "tua.push(4)\n",
        "tua.push(10)\n",
        "tua.push(9)\n",
        "tua.push(3)\n",
        "print(\"Last element of stack : \" + str(tua.peek()))\n",
        "\n",
        "tua.pop()\n",
        "print(\"Last element of stack : \" + str(tua.peek()))"
      ],
      "execution_count": 53,
      "outputs": [
        {
          "output_type": "stream",
          "text": [
            "Last element of stack : 3\n",
            "Last element of stack : 9\n"
          ],
          "name": "stdout"
        }
      ]
    },
    {
      "cell_type": "code",
      "metadata": {
        "id": "xgl_WQK_QXWz"
      },
      "source": [
        ""
      ],
      "execution_count": 53,
      "outputs": []
    }
  ]
}