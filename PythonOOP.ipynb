{
  "nbformat": 4,
  "nbformat_minor": 0,
  "metadata": {
    "colab": {
      "name": "PythonOOP.ipynb",
      "provenance": [],
      "collapsed_sections": []
    },
    "kernelspec": {
      "name": "python3",
      "display_name": "Python 3"
    },
    "language_info": {
      "name": "python"
    }
  },
  "cells": [
    {
      "cell_type": "markdown",
      "metadata": {
        "id": "hJv7_G7tmuKf"
      },
      "source": [
        "# **Multiplication using lamda function**"
      ]
    },
    {
      "cell_type": "code",
      "metadata": {
        "colab": {
          "base_uri": "https://localhost:8080/"
        },
        "id": "BjgCrgetlub5",
        "outputId": "76cb7116-bdee-4532-e0b8-849d0a8eea17"
      },
      "source": [
        "multiply = lambda x1,x2: x1*x2\n",
        "\n",
        "result = multiply(5,6)\n",
        "print(result)"
      ],
      "execution_count": null,
      "outputs": [
        {
          "output_type": "stream",
          "text": [
            "30\n"
          ],
          "name": "stdout"
        }
      ]
    },
    {
      "cell_type": "code",
      "metadata": {
        "colab": {
          "base_uri": "https://localhost:8080/"
        },
        "id": "cT4Z5kWJnGpA",
        "outputId": "0a7169e0-6289-465c-fb5c-16e5711c6ef0"
      },
      "source": [
        "## function\n",
        "def multiply(x1,x2):\n",
        "  result= x1*x2\n",
        "  return result\n",
        "\n",
        "c= multiply(5,6)\n",
        "print(c)"
      ],
      "execution_count": null,
      "outputs": [
        {
          "output_type": "stream",
          "text": [
            "30\n"
          ],
          "name": "stdout"
        }
      ]
    },
    {
      "cell_type": "markdown",
      "metadata": {
        "id": "kmJLcrp8nzTW"
      },
      "source": [
        "# **Square root using lamda function(not possible)**"
      ]
    },
    {
      "cell_type": "code",
      "metadata": {
        "colab": {
          "base_uri": "https://localhost:8080/"
        },
        "id": "rpe3Tdu-n45a",
        "outputId": "3de7a9d6-e23c-4058-b89b-07e501140334"
      },
      "source": [
        "import math\n",
        "print(math.sqrt(3))"
      ],
      "execution_count": null,
      "outputs": [
        {
          "output_type": "stream",
          "text": [
            "1.7320508075688772\n"
          ],
          "name": "stdout"
        }
      ]
    },
    {
      "cell_type": "markdown",
      "metadata": {
        "id": "OUC1qmVCou1H"
      },
      "source": [
        "# **Double number using lamda function**"
      ]
    },
    {
      "cell_type": "code",
      "metadata": {
        "colab": {
          "base_uri": "https://localhost:8080/"
        },
        "id": "wiksgwbxo0dG",
        "outputId": "fce8ddf5-c8bb-4973-98f4-ba6d38696534"
      },
      "source": [
        "double_number = lambda x : x*2\n",
        "print(double_number(4))"
      ],
      "execution_count": null,
      "outputs": [
        {
          "output_type": "stream",
          "text": [
            "8\n"
          ],
          "name": "stdout"
        }
      ]
    },
    {
      "cell_type": "markdown",
      "metadata": {
        "id": "5MXR76q8pFX1"
      },
      "source": [
        "# **Power function  using lamda function**"
      ]
    },
    {
      "cell_type": "code",
      "metadata": {
        "colab": {
          "base_uri": "https://localhost:8080/"
        },
        "id": "ziTxy_DnpKEA",
        "outputId": "97ee016f-39a6-4261-d4e5-4398b1ae29af"
      },
      "source": [
        "power_function = lambda y,z : y**z\n",
        "print(power_function(4,3))"
      ],
      "execution_count": null,
      "outputs": [
        {
          "output_type": "stream",
          "text": [
            "64\n"
          ],
          "name": "stdout"
        }
      ]
    },
    {
      "cell_type": "markdown",
      "metadata": {
        "id": "GqOohKB3qJmy"
      },
      "source": [
        "# **Object Oriented Programming**"
      ]
    },
    {
      "cell_type": "markdown",
      "metadata": {
        "id": "kb2MvKi1qZ2G"
      },
      "source": [
        "Class − A user-defined prototype for an object that defines a set of attributes that characterize any object of the class. The attributes are data members (class variables and instance variables) and methods, accessed via dot notation."
      ]
    },
    {
      "cell_type": "code",
      "metadata": {
        "colab": {
          "base_uri": "https://localhost:8080/"
        },
        "id": "QhmQQL3irY8r",
        "outputId": "517a9585-9993-4485-9d84-83f7775cd425"
      },
      "source": [
        "class MyClass:\n",
        "  x=5\n",
        "  y=6\n",
        "  z= (x+y)\n",
        "  \n",
        "\n",
        "obj1 = MyClass()\n",
        "\n",
        "print(obj1.z)\n"
      ],
      "execution_count": null,
      "outputs": [
        {
          "output_type": "stream",
          "text": [
            "11\n"
          ],
          "name": "stdout"
        }
      ]
    },
    {
      "cell_type": "code",
      "metadata": {
        "colab": {
          "base_uri": "https://localhost:8080/"
        },
        "id": "xmpCeIkvs7Q7",
        "outputId": "5d544d41-0cfd-4bf2-e084-e8bde984dc26"
      },
      "source": [
        "obj1.y"
      ],
      "execution_count": null,
      "outputs": [
        {
          "output_type": "execute_result",
          "data": {
            "text/plain": [
              "6"
            ]
          },
          "metadata": {
            "tags": []
          },
          "execution_count": 46
        }
      ]
    },
    {
      "cell_type": "markdown",
      "metadata": {
        "id": "CIGFW94SujIG"
      },
      "source": [
        "The examples above are classes and objects in their simplest form, and are not really useful in real life applications.\n",
        "Built in function:\n",
        "1) __init__()"
      ]
    },
    {
      "cell_type": "markdown",
      "metadata": {
        "id": "0XypllCru_MX"
      },
      "source": [
        "# **All classes have a function called __init__(), which is always executed when the class is being initiated.**"
      ]
    },
    {
      "cell_type": "markdown",
      "metadata": {
        "id": "m3MJuZnyvgDu"
      },
      "source": [
        "# **Constructor**\n",
        "**Use the __init__() function to assign values to object properties, or other operations that are necessary to do when the object is being created:**"
      ]
    },
    {
      "cell_type": "code",
      "metadata": {
        "id": "3XTEKbO4uj5o"
      },
      "source": [
        "class Student:\n",
        "\n",
        "  def __init__(self,name,roll,age):\n",
        "    self.name= name\n",
        "    self.roll = roll\n",
        "    self.age = age\n",
        "\n",
        "student1 = Student(\"Toa\",101,-16)\n"
      ],
      "execution_count": null,
      "outputs": []
    },
    {
      "cell_type": "code",
      "metadata": {
        "colab": {
          "base_uri": "https://localhost:8080/"
        },
        "id": "HJxtz1CjwyDC",
        "outputId": "f375a88d-164e-4bbf-de78-8ebbff341120"
      },
      "source": [
        "student1.age,student1.name"
      ],
      "execution_count": null,
      "outputs": [
        {
          "output_type": "execute_result",
          "data": {
            "text/plain": [
              "(-16, 'Toa')"
            ]
          },
          "metadata": {
            "tags": []
          },
          "execution_count": 48
        }
      ]
    },
    {
      "cell_type": "markdown",
      "metadata": {
        "id": "xk0nT0pexbwv"
      },
      "source": [
        "# **Object Methods**\n",
        "Objects can also contain methods. Methods in objects are functions that belong to the object.\n",
        "\n"
      ]
    },
    {
      "cell_type": "code",
      "metadata": {
        "colab": {
          "base_uri": "https://localhost:8080/"
        },
        "id": "Eu57MTLExeh7",
        "outputId": "ea58ca2a-9f70-4499-dad6-77cd839da422"
      },
      "source": [
        "class Student:\n",
        "\n",
        "  def __init__(self,name,roll,age):\n",
        "    self.name= name\n",
        "    self.roll = roll\n",
        "    self.age = age\n",
        "  \n",
        "  def printMyName(self):\n",
        "    print(\"your name is \"+ self.name)\n",
        "\n",
        "student1 = Student(\"Toa\",101,-16)\n",
        "student1.printMyName()"
      ],
      "execution_count": null,
      "outputs": [
        {
          "output_type": "stream",
          "text": [
            "your name is Toa\n"
          ],
          "name": "stdout"
        }
      ]
    },
    {
      "cell_type": "code",
      "metadata": {
        "id": "asBnxicGzVuT",
        "colab": {
          "base_uri": "https://localhost:8080/"
        },
        "outputId": "c2f9d467-0fc0-4794-f26a-457c1e5734b1"
      },
      "source": [
        "class Student:\n",
        "\n",
        "  def __init__(self,first,second,third,fourth):\n",
        "    self.first= first\n",
        "    self.second = second\n",
        "    self.third = third\n",
        "    self.fourth = fourth\n",
        "  \n",
        "  def printMyCGPA(self):\n",
        "    x = (self.first+self.second+self.third+self.fourth)/4\n",
        "    print(x)\n",
        "\n",
        "student1 = Student(3.90,3.86,3.94,3.24)\n",
        "student1.printMyCGPA()"
      ],
      "execution_count": null,
      "outputs": [
        {
          "output_type": "stream",
          "text": [
            "3.735\n"
          ],
          "name": "stdout"
        }
      ]
    },
    {
      "cell_type": "markdown",
      "metadata": {
        "id": "Q_LDqwGmVoWf"
      },
      "source": [
        "# **Arrays**\n",
        "An array is a special variable that can hold more than one value at a time."
      ]
    },
    {
      "cell_type": "code",
      "metadata": {
        "colab": {
          "base_uri": "https://localhost:8080/"
        },
        "id": "OO9frJ_7Vqc8",
        "outputId": "95adc897-85f8-4b22-e413-1063fb0b8cf7"
      },
      "source": [
        "myArray = [1,2,3,4,76,2,4,6,78,3,7,3,46567,2,6,3,3,7,3]\n",
        "print(myArray)\n",
        "myArray\n"
      ],
      "execution_count": null,
      "outputs": [
        {
          "output_type": "stream",
          "text": [
            "[1, 2, 3, 4, 76, 2, 4, 6, 78, 3, 7, 3, 46567, 2, 6, 3, 3, 7, 3]\n"
          ],
          "name": "stdout"
        },
        {
          "output_type": "execute_result",
          "data": {
            "text/plain": [
              "[1, 2, 3, 4, 76, 2, 4, 6, 78, 3, 7, 3, 46567, 2, 6, 3, 3, 7, 3]"
            ]
          },
          "metadata": {
            "tags": []
          },
          "execution_count": 51
        }
      ]
    },
    {
      "cell_type": "code",
      "metadata": {
        "colab": {
          "base_uri": "https://localhost:8080/"
        },
        "id": "bDGQAeJRWGOx",
        "outputId": "6deed6b4-c919-4147-8bdd-67b918de69c0"
      },
      "source": [
        "myArray[2]"
      ],
      "execution_count": null,
      "outputs": [
        {
          "output_type": "execute_result",
          "data": {
            "text/plain": [
              "3"
            ]
          },
          "metadata": {
            "tags": []
          },
          "execution_count": 52
        }
      ]
    },
    {
      "cell_type": "code",
      "metadata": {
        "colab": {
          "base_uri": "https://localhost:8080/"
        },
        "id": "wQHJlOtZWsrP",
        "outputId": "6cd7ce2a-abaf-4ed2-de71-69d82eee8b77"
      },
      "source": [
        "len(myArray)"
      ],
      "execution_count": null,
      "outputs": [
        {
          "output_type": "execute_result",
          "data": {
            "text/plain": [
              "19"
            ]
          },
          "metadata": {
            "tags": []
          },
          "execution_count": 53
        }
      ]
    },
    {
      "cell_type": "code",
      "metadata": {
        "colab": {
          "base_uri": "https://localhost:8080/"
        },
        "id": "Q9SUutgBW5yM",
        "outputId": "27180025-eff5-4b34-e9cd-34338095b9b9"
      },
      "source": [
        "for i in myArray:\n",
        "  print(i*10)"
      ],
      "execution_count": null,
      "outputs": [
        {
          "output_type": "stream",
          "text": [
            "10\n",
            "20\n",
            "30\n",
            "40\n",
            "760\n",
            "20\n",
            "40\n",
            "60\n",
            "780\n",
            "30\n",
            "70\n",
            "30\n",
            "465670\n",
            "20\n",
            "60\n",
            "30\n",
            "30\n",
            "70\n",
            "30\n"
          ],
          "name": "stdout"
        }
      ]
    },
    {
      "cell_type": "code",
      "metadata": {
        "id": "lsTZYexzXNRZ"
      },
      "source": [
        "myArray.append(2343)"
      ],
      "execution_count": null,
      "outputs": []
    },
    {
      "cell_type": "code",
      "metadata": {
        "colab": {
          "base_uri": "https://localhost:8080/"
        },
        "id": "a7m-hxiRX2q5",
        "outputId": "a02e8084-257b-4ed9-a007-b834631fbfca"
      },
      "source": [
        "myArray"
      ],
      "execution_count": null,
      "outputs": [
        {
          "output_type": "execute_result",
          "data": {
            "text/plain": [
              "[1, 2, 3, 4, 76, 2, 4, 6, 78, 3, 7, 3, 46567, 2, 6, 3, 3, 7, 3, 2343]"
            ]
          },
          "metadata": {
            "tags": []
          },
          "execution_count": 56
        }
      ]
    },
    {
      "cell_type": "code",
      "metadata": {
        "id": "30P8-bS9YfIQ"
      },
      "source": [
        "myArray.insert(3,10000)"
      ],
      "execution_count": null,
      "outputs": []
    },
    {
      "cell_type": "code",
      "metadata": {
        "colab": {
          "base_uri": "https://localhost:8080/"
        },
        "id": "DbkHhnb3Yy6M",
        "outputId": "98766d64-4daa-4f02-89e2-9766fda60a86"
      },
      "source": [
        "myArray"
      ],
      "execution_count": null,
      "outputs": [
        {
          "output_type": "execute_result",
          "data": {
            "text/plain": [
              "[1, 2, 3, 10000, 4, 76, 2, 4, 6, 78, 3, 7, 3, 46567, 2, 6, 3, 3, 7, 3, 2343]"
            ]
          },
          "metadata": {
            "tags": []
          },
          "execution_count": 58
        }
      ]
    },
    {
      "cell_type": "code",
      "metadata": {
        "id": "3rj1AU5yY01N"
      },
      "source": [
        "for i in range(len(myArray)):\n",
        "  if(myArray[i]==76):\n",
        "    myArray.pop(i)\n",
        "    break"
      ],
      "execution_count": null,
      "outputs": []
    },
    {
      "cell_type": "code",
      "metadata": {
        "colab": {
          "base_uri": "https://localhost:8080/"
        },
        "id": "z7ceQxfxZ58q",
        "outputId": "79508c19-de89-4462-e5ae-e8ee7e618af0"
      },
      "source": [
        "myArray"
      ],
      "execution_count": null,
      "outputs": [
        {
          "output_type": "execute_result",
          "data": {
            "text/plain": [
              "[1, 2, 3, 10000, 4, 2, 4, 6, 78, 3, 7, 3, 46567, 2, 6, 3, 3, 7, 3, 2343]"
            ]
          },
          "metadata": {
            "tags": []
          },
          "execution_count": 60
        }
      ]
    },
    {
      "cell_type": "code",
      "metadata": {
        "colab": {
          "base_uri": "https://localhost:8080/"
        },
        "id": "n7BFwvgUaK28",
        "outputId": "0e1930b2-b779-4f54-9ea9-fc5a57f2c190"
      },
      "source": [
        "myArray.pop(5)"
      ],
      "execution_count": null,
      "outputs": [
        {
          "output_type": "execute_result",
          "data": {
            "text/plain": [
              "2"
            ]
          },
          "metadata": {
            "tags": []
          },
          "execution_count": 61
        }
      ]
    },
    {
      "cell_type": "code",
      "metadata": {
        "colab": {
          "base_uri": "https://localhost:8080/"
        },
        "id": "pPNG5EfybLYF",
        "outputId": "79bf627a-939f-4ffb-ddd3-7ea96c755e89"
      },
      "source": [
        "myArray"
      ],
      "execution_count": null,
      "outputs": [
        {
          "output_type": "execute_result",
          "data": {
            "text/plain": [
              "[1, 2, 3, 10000, 4, 4, 6, 78, 3, 7, 3, 46567, 2, 6, 3, 3, 7, 3, 2343]"
            ]
          },
          "metadata": {
            "tags": []
          },
          "execution_count": 62
        }
      ]
    },
    {
      "cell_type": "code",
      "metadata": {
        "id": "6TA4Ij8zbjis"
      },
      "source": [
        "myArray.sort()"
      ],
      "execution_count": null,
      "outputs": []
    },
    {
      "cell_type": "code",
      "metadata": {
        "colab": {
          "base_uri": "https://localhost:8080/"
        },
        "id": "ZXcus2KecVKM",
        "outputId": "556908e5-3fdf-4002-c015-ac6d0186ac8b"
      },
      "source": [
        "myArray"
      ],
      "execution_count": null,
      "outputs": [
        {
          "output_type": "execute_result",
          "data": {
            "text/plain": [
              "[1, 2, 2, 3, 3, 3, 3, 3, 3, 4, 4, 6, 6, 7, 7, 78, 2343, 10000, 46567]"
            ]
          },
          "metadata": {
            "tags": []
          },
          "execution_count": 64
        }
      ]
    },
    {
      "cell_type": "code",
      "metadata": {
        "colab": {
          "base_uri": "https://localhost:8080/"
        },
        "id": "vpCqcjSBcXeL",
        "outputId": "f3a917a8-3a49-4527-b0fb-7b01ac4cc04f"
      },
      "source": [
        "myArray.reverse()\n",
        "myArray"
      ],
      "execution_count": null,
      "outputs": [
        {
          "output_type": "execute_result",
          "data": {
            "text/plain": [
              "[46567, 10000, 2343, 78, 7, 7, 6, 6, 4, 4, 3, 3, 3, 3, 3, 3, 2, 2, 1]"
            ]
          },
          "metadata": {
            "tags": []
          },
          "execution_count": 65
        }
      ]
    },
    {
      "cell_type": "code",
      "metadata": {
        "colab": {
          "base_uri": "https://localhost:8080/"
        },
        "id": "Xw782Ebxce9Q",
        "outputId": "dff50c57-2597-4668-8cfd-48e97dbd9da2"
      },
      "source": [
        "myArray.count(4)"
      ],
      "execution_count": null,
      "outputs": [
        {
          "output_type": "execute_result",
          "data": {
            "text/plain": [
              "2"
            ]
          },
          "metadata": {
            "tags": []
          },
          "execution_count": 66
        }
      ]
    },
    {
      "cell_type": "markdown",
      "metadata": {
        "id": "J9iPySRu83qY"
      },
      "source": [
        "# **Shift Left k Cells**\n",
        "Consider an array named source. Write a method/function named shiftLeft( source, k) that shifts all the elements of the source array to the left by 'k' positions. You must execute the method by passing an array and number of cells to be shifted. After calling the method, print the array to show whether the elements have been shifted properly.\n",
        "Example:\n",
        "source=[10,20,30,40,50,60]\n",
        "shiftLeft(source,3)\n",
        "After calling shiftLeft(source,3), printing the array should give the output as: \n",
        " [ 40, 50, 60, 0, 0, 0 ]\n"
      ]
    },
    {
      "cell_type": "code",
      "metadata": {
        "id": "HoezL3l2cj_o",
        "colab": {
          "base_uri": "https://localhost:8080/"
        },
        "outputId": "9b5d9f60-9aa4-426a-be39-037487bbc9e8"
      },
      "source": [
        "source=[10,20,30,40,50,60,70,74,57,245,8645,34534,65757,879]\n",
        "\n",
        "def shiftLeft(source,x):\n",
        "  slice1=source[:x]\n",
        "  slice2= source[x:]\n",
        "  for i in range(len(slice1)):\n",
        "    slice1[i]=0\n",
        "  return print(slice2+slice1)\n",
        "  \n",
        "shiftLeft(source,7)"
      ],
      "execution_count": null,
      "outputs": [
        {
          "output_type": "stream",
          "text": [
            "[74, 57, 245, 8645, 34534, 65757, 879, 0, 0, 0, 0, 0, 0, 0]\n"
          ],
          "name": "stdout"
        }
      ]
    },
    {
      "cell_type": "markdown",
      "metadata": {
        "id": "4hoBuetl_BCn"
      },
      "source": [
        "# **Rotate Left k cells**\n",
        " Consider an array named source. Write a method/function named rotateLeft( source, k) that rotates all the elements of the source array to the left by 'k' positions. You must execute the method by passing an array and number of cells to be shifted. After calling the method, print the array to show whether the elements have been shifted properly.\n",
        "Example:\n",
        "source=[10,20,30,40,50,60]\n",
        "rotateLeft(source,3)\n",
        "After calling rotateLeft(source,3), printing the array should give the output as: \n",
        " [ 40, 50, 60, 10, 20, 30]\n"
      ]
    },
    {
      "cell_type": "code",
      "metadata": {
        "colab": {
          "base_uri": "https://localhost:8080/"
        },
        "id": "Wun9cIW99vnE",
        "outputId": "3b82471d-867f-4e58-94d9-709215522b63"
      },
      "source": [
        "source=[10,20,30,40,50,60]\n",
        "\n",
        "def rotateLeft(source,x):\n",
        "  slice1=source[:x]\n",
        "  slice2= source[x:]\n",
        "  print(slice2+slice1)\n",
        "  \n",
        "rotateLeft(source,3)"
      ],
      "execution_count": null,
      "outputs": [
        {
          "output_type": "stream",
          "text": [
            "[40, 50, 60, 10, 20, 30]\n"
          ],
          "name": "stdout"
        }
      ]
    },
    {
      "cell_type": "markdown",
      "metadata": {
        "id": "T64oVtabbpMx"
      },
      "source": [
        ""
      ]
    },
    {
      "cell_type": "markdown",
      "metadata": {
        "id": "ZKQBtarYBXYw"
      },
      "source": [
        "# **Remove an element from an array**\n",
        " Consider an array named source. Write a method/function named remove( source, size, idx) that removes the element in index idx of the source array. You must execute the method by passing an array, its size and the idx( that is the index of the element to be removed). After calling the method, print the array to show whether the element of that particular index has been removed properly.\n",
        "Example:\n",
        "source=[10,20,30,40,50,0,0]\n",
        "remove(source,5,2)\n",
        "After calling remove(source,5,2) , printing the array should give the output as: \n",
        " [ 10,20,40,50,0,0,0]\n"
      ]
    },
    {
      "cell_type": "code",
      "metadata": {
        "colab": {
          "base_uri": "https://localhost:8080/"
        },
        "id": "pR5uIaQu_Ybw",
        "outputId": "4934575a-67dd-4edb-c001-a0508f6eb0ed"
      },
      "source": [
        "def remove(list1, pos):\n",
        "    newlist = []\n",
        "  \n",
        "    # traverse in the list\n",
        "    for x in range(len(list1)):\n",
        "          \n",
        "        # if index not equal to pos\n",
        "        if x != pos:\n",
        "            newlist.append(list1[x])\n",
        "    if (len(list1)!=len(newlist)):\n",
        "      for x in range(len(list1)-len(newlist)):\n",
        "        newlist.append(0)\n",
        "    print(*newlist)\n",
        "  \n",
        "# driver code\n",
        "list1 = [10,20,30,40,50,0,0]\n",
        "pos = 2\n",
        "remove(list1, pos)"
      ],
      "execution_count": null,
      "outputs": [
        {
          "output_type": "stream",
          "text": [
            "10 20 40 50 0 0 0\n"
          ],
          "name": "stdout"
        }
      ]
    },
    {
      "cell_type": "code",
      "metadata": {
        "id": "czbUTo7GCep5"
      },
      "source": [
        ""
      ],
      "execution_count": null,
      "outputs": []
    },
    {
      "cell_type": "markdown",
      "metadata": {
        "id": "Fc0_gyPccWJw"
      },
      "source": [
        "# **Shift Left k Cells**\n",
        "\n",
        "Consider an array named source. Write a method/function named shiftLeft( source, k) that shifts all the elements of the source array to the left by 'k' positions. You must execute the method by passing an array and number of cells to be shifted. After calling the method, print the array to show whether the elements have been shifted properly.\n",
        "Example:\n",
        "source=[10,20,30,40,50,60]\n",
        "shiftLeft(source,3)\n",
        "After calling shiftLeft(source,3), printing the array should give the output as: \n",
        " [ 40, 50, 60, 0, 0, 0 ]\n"
      ]
    },
    {
      "cell_type": "code",
      "metadata": {
        "colab": {
          "base_uri": "https://localhost:8080/"
        },
        "id": "ODhJ4kJfccwq",
        "outputId": "e2086cf0-05b9-46c3-8c1e-35bb93ddb063"
      },
      "source": [
        "source=[10,20,30,40,50,60]\n",
        "\n",
        "def shiftLeft(source, k):\n",
        "  slice1 = source[:k]\n",
        "  slice2 = source[k:]\n",
        "  # print(slice1)\n",
        "  # print(slice2)\n",
        "  for i in range(len(slice1)):\n",
        "    slice1[i]=0\n",
        "  return print(slice2+slice1)\n",
        "\n",
        "shiftLeft(source,3)\n"
      ],
      "execution_count": null,
      "outputs": [
        {
          "output_type": "stream",
          "text": [
            "[40, 50, 60, 0, 0, 0]\n"
          ],
          "name": "stdout"
        }
      ]
    },
    {
      "cell_type": "code",
      "metadata": {
        "colab": {
          "base_uri": "https://localhost:8080/"
        },
        "id": "dGwMPknwZTjU",
        "outputId": "db4de38f-64d6-4caa-b58d-5d46dd77e026"
      },
      "source": [
        "##Shift right k cells\n",
        "source=[10,20,30,40,50,60]\n",
        "\n",
        "def shiftRight(source, k):\n",
        "  slice1 = source[:k]\n",
        "  slice2 = source[k:]\n",
        "  # print(slice1)\n",
        "  # print(slice2)\n",
        "  for i in range(len(slice2)):\n",
        "    slice2[i]=0\n",
        "  return print(slice2+slice1)\n",
        "\n",
        "shiftRight(source,3)"
      ],
      "execution_count": null,
      "outputs": [
        {
          "output_type": "stream",
          "text": [
            "[0, 0, 0, 10, 20, 30]\n"
          ],
          "name": "stdout"
        }
      ]
    },
    {
      "cell_type": "markdown",
      "metadata": {
        "id": "26skuXeWf-qf"
      },
      "source": [
        "# **Rotate Left k cells**\n",
        " Consider an array named source. Write a method/function named rotateLeft( source, k) that rotates all the elements of the source array to the left by 'k' positions. You must execute the method by passing an array and number of cells to be shifted. After calling the method, print the array to show whether the elements have been shifted properly.\n",
        "Example:\n",
        "source=[10,20,30,40,50,60]\n",
        "rotateLeft(source,3)\n",
        "After calling rotateLeft(source,3), printing the array should give the output as: \n",
        " [ 40, 50, 60, 10, 20, 30]\n"
      ]
    },
    {
      "cell_type": "code",
      "metadata": {
        "colab": {
          "base_uri": "https://localhost:8080/"
        },
        "id": "u6_Ye48KfJHP",
        "outputId": "39ee05bd-2f68-430e-efe0-ca8f73390230"
      },
      "source": [
        "source=[10,20,30,40,50,60]\n",
        "\n",
        "def shiftLeft(source, k):\n",
        "  slice1 = source[:k]\n",
        "  slice2 = source[k:]\n",
        "  print(slice2+slice1)\n",
        "\n",
        "shiftLeft(source,3)"
      ],
      "execution_count": null,
      "outputs": [
        {
          "output_type": "stream",
          "text": [
            "[40, 50, 60, 10, 20, 30]\n"
          ],
          "name": "stdout"
        }
      ]
    },
    {
      "cell_type": "markdown",
      "metadata": {
        "id": "3uJ6HppAgtsg"
      },
      "source": [
        "# **Remove an element from an array**\n",
        " Consider an array named source. Write a method/function named remove( source, size, idx) that removes the element in index idx of the source array. You must execute the method by passing an array, its size and the idx( that is the index of the element to be removed). After calling the method, print the array to show whether the element of that particular index has been removed properly.\n",
        "Example:\n",
        "source=[10,20,30,40,50,0,0]\n",
        "remove(source,5,2)\n",
        "After calling remove(source,5,2) , printing the array should give the output as: \n",
        " [ 10,20,40,50,0,0,0]\n"
      ]
    },
    {
      "cell_type": "code",
      "metadata": {
        "colab": {
          "base_uri": "https://localhost:8080/"
        },
        "id": "kzHFATqygkFT",
        "outputId": "1edafdd5-9127-457a-905f-eff3aa5a93c0"
      },
      "source": [
        "def remove(source,array_size,idx):\n",
        "  newArray = []\n",
        "\n",
        "  #traverse in array\n",
        "  for x in range(len(source)):\n",
        "    if x != idx:\n",
        "      newArray.append(source[x])\n",
        "  \n",
        "  newArray.append(0)\n",
        "  print(newArray)\n",
        "\n",
        "\n",
        "source=[10,20,30,40,50,0,0]\n",
        "remove(source,len(source),3)"
      ],
      "execution_count": null,
      "outputs": [
        {
          "output_type": "stream",
          "text": [
            "[10, 20, 30, 50, 0, 0, 0]\n"
          ],
          "name": "stdout"
        }
      ]
    },
    {
      "cell_type": "markdown",
      "metadata": {
        "id": "7qU_8ktjr_Sk"
      },
      "source": [
        "# **Splitting an Array**\n",
        "\n",
        "\n",
        "\n",
        "\n",
        "Suppose the elements of an array A containing positive integers, denote the weights in kilograms. And we have a beam balance. We want to put the weights on both pans of the balance in such a way that for some index 0 < i < A.length - 1, all values starting from A[0], A[1], upto A[ i - 1], should be on the left pan. And all values starting from A[ i ] upto A[ A.length - 1] should be on the right pan and the left and right pan should be balanced. If such an i exists, return true. Else, return false. \n",
        "Input: [1, 1, 1, 2, 1]\tOutput : true\n",
        "Explanation: (summation of [1, 1, 1] = summation of [2,1])\n",
        "Input: [2, 1, 1, 2, 1] Output: false\n",
        "Input: [10, 3, 10, 2, 1]  Output: true \n",
        "Explanation: (summation of [10, 3] = summation of [10,2,1]))\n"
      ]
    },
    {
      "cell_type": "code",
      "metadata": {
        "colab": {
          "base_uri": "https://localhost:8080/"
        },
        "id": "GAvyZx5Uc2DT",
        "outputId": "9c82e5ae-7d2f-4795-b3fd-2952ce2460f6"
      },
      "source": [
        "beamBalance=[1, 1, 1, 2, 1]\n",
        "\n",
        "def balanceMaker(ar,k):\n",
        "  leftSum = 0\n",
        "  rightSum = 0\n",
        "\n",
        "  for i in range(k):\n",
        "    leftSum = leftSum + ar[i]\n",
        "  for i in range(k,len(ar)):\n",
        "    rightSum = rightSum + ar[i]\n",
        "\n",
        "  # print(leftSum)\n",
        "  # print(rightSum)\n",
        "\n",
        "  if leftSum == rightSum:\n",
        "    return print(\"true\")\n",
        "  else:\n",
        "    return print(\"false\")\n",
        "\n",
        "\n",
        "\n",
        "balanceMaker(beamBalance,3)\n"
      ],
      "execution_count": null,
      "outputs": [
        {
          "output_type": "stream",
          "text": [
            "true\n"
          ],
          "name": "stdout"
        }
      ]
    },
    {
      "cell_type": "markdown",
      "metadata": {
        "id": "N4kAxh0ZaaHE"
      },
      "source": [
        "# **FInd the maximum repeating number in an array**"
      ]
    },
    {
      "cell_type": "code",
      "metadata": {
        "colab": {
          "base_uri": "https://localhost:8080/"
        },
        "id": "Qvj__0XcdqHp",
        "outputId": "5e65fa56-e272-45c1-e258-55dbd02984a7"
      },
      "source": [
        "arr=[2,3,4,6,3,56,3,2,2,2,4,5,2,2,3,3,3,3,3,3,3]\n",
        "arr.count(3)"
      ],
      "execution_count": null,
      "outputs": [
        {
          "output_type": "execute_result",
          "data": {
            "text/plain": [
              "10"
            ]
          },
          "metadata": {
            "tags": []
          },
          "execution_count": 75
        }
      ]
    },
    {
      "cell_type": "code",
      "metadata": {
        "id": "c3zmIgsTtvCM"
      },
      "source": [
        ""
      ],
      "execution_count": null,
      "outputs": []
    },
    {
      "cell_type": "code",
      "metadata": {
        "colab": {
          "base_uri": "https://localhost:8080/"
        },
        "id": "v0iYXTRLXB4d",
        "outputId": "1c36ec15-1ae2-429c-ad25-4d1f45ef8168"
      },
      "source": [
        "arr=[2,3,4,6,3,56,3,2,2,2,4,5,2,2,3,3,3,3,3,3,3]\n",
        "#naive approch\n",
        "#brute force \n",
        "def maxRepeating(arr):\n",
        "  counter = 0\n",
        "  number = arr[0]\n",
        "\n",
        "  for i in arr:\n",
        "    current_frequency = arr.count(i)\n",
        "    if(current_frequency> counter):\n",
        "      counter = current_frequency\n",
        "      number = i\n",
        "  return number\n",
        "\n",
        "print(maxRepeating(arr))\n"
      ],
      "execution_count": null,
      "outputs": [
        {
          "output_type": "stream",
          "text": [
            "3\n"
          ],
          "name": "stdout"
        }
      ]
    },
    {
      "cell_type": "markdown",
      "metadata": {
        "id": "L07vIRYRgdEN"
      },
      "source": [
        "# **Max Bunch Count**(HW)\n",
        "\n",
        "\n",
        "A \"bunch\" in an array is a consecutive chain of two or more adjacent elements of the same value. Write a method that returns the number of elements in the largest bunch found in the given array.\n",
        "Input: [1, 2, 2, 3, 4, 4, 4]   Output: 3\n",
        "Explanation: There are two bunches here {2,2} and {4,4,4}. The largest bunch is {4,4,4} containing 3 elements so 3 is returned.\n",
        "Input: [1,1,2, 2, 1, 1,1,1] Output:4\n",
        " Explanation: There are three bunches here {1,1} and {2,2} and {1,1,1,1}. The largest bunch is {1,1,1,1} containing 4 elements so 4 is returned.\n"
      ]
    },
    {
      "cell_type": "code",
      "metadata": {
        "id": "Gj7HmtBxjl7b"
      },
      "source": [
        "maximum = 0\n",
        "counter =1 \n",
        "i =1\n",
        "n= array size\n",
        "while(i<n):\n",
        "  if arr[i-1] == arr[i]:\n",
        "    counter = counter +1\n",
        "    if(maximum<counter):\n",
        "      maximum = counter\n",
        "    else:\n",
        "      counter = 1\n",
        "return maximum"
      ],
      "execution_count": null,
      "outputs": []
    },
    {
      "cell_type": "markdown",
      "metadata": {
        "id": "TcDEXYjkhHFZ"
      },
      "source": [
        "# **Repetition**(HW)\n",
        " Write a method that takes in an array as a parameter and counts the repetition of each element. That is, if an element has appeared in the array more than once, then its ‘repetition’ is its number of occurrences. The method returns true if there are at least two elements with the same number of ‘repetition’. Otherwise, return false.\n",
        "Input: {4,5,6,6,4,3,6,4} Output: True\n",
        "Explanation: Two numbers repeat in this array: 4 and 6. 4 has a repetition of 3, 6 has a repetition of 3. Since two numbers have the same repetition output is True.\n",
        "Input: {3,4,6,3,4,7,4,6,8,6,6} Output: False\n",
        "Explanation: Three numbers repeat in this array:3,4 and 6 .3 has a repetition of 2, 4 has a repetition of 3, 6 has a repetition of 4. Since no two numbers have the same repetition output is False.\n"
      ]
    },
    {
      "cell_type": "code",
      "metadata": {
        "id": "NDt2XtUNffH3"
      },
      "source": [
        ""
      ],
      "execution_count": null,
      "outputs": []
    },
    {
      "cell_type": "markdown",
      "metadata": {
        "id": "ounxiPlb5HLa"
      },
      "source": [
        "# **Array Series(HW)**"
      ]
    },
    {
      "cell_type": "code",
      "metadata": {
        "id": "BFK7cqcVQ6-q"
      },
      "source": [
        ""
      ],
      "execution_count": null,
      "outputs": []
    },
    {
      "cell_type": "markdown",
      "metadata": {
        "id": "qe-uaU5YL_t9"
      },
      "source": [
        "# **Circular array**\n",
        "\n",
        "An array is called circular if we consider the first element as next of the last element. Circular arrays are used to implement queue (Refer to this and this).\n",
        "An example problem : \n",
        "Suppose n people are sitting at a circular table with names A, B, C, D, … Given a name, we need to print all n people (in order) starting from the given name. ![circulararrayrepresentation.PNG](data:image/png;base64,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)\n",
        "\n",
        "For example, consider 6 people A B C D E F and given name as ‘D’. People sitting in a circular manner starting from D are D E F A B C.\n",
        "A simple solution is to create an auxiliary array of size 2*n and store it in another array. For example for 6 people, we create below the auxiliary array. \n",
        "A B C D E F A B C D E F \n",
        "Now for any given index, we simply print n elements starting from it. For example, we print the following 6. \n",
        "A B C D E F A B C D E F "
      ]
    },
    {
      "cell_type": "markdown",
      "metadata": {
        "id": "kbNxEWO2UEGX"
      },
      "source": [
        "A B C D E F A B C D E F\n"
      ]
    },
    {
      "cell_type": "code",
      "metadata": {
        "colab": {
          "base_uri": "https://localhost:8080/"
        },
        "id": "knsq0eN1MQTx",
        "outputId": "227245f5-1975-4032-eb38-c2cb7201f2b8"
      },
      "source": [
        "def printCircular(arr,n,ind):\n",
        "  brr = [None] * (2*n)\n",
        "  i = 0\n",
        "\n",
        "  while i<n:\n",
        "    brr[i] = brr[n+i] = arr[i]\n",
        "    i = i+1\n",
        "  i = ind\n",
        "\n",
        "  ## print from ind-nth index to (n+i)th index\n",
        "  while i<(n+ind):\n",
        "    print(brr[i], end=\" \")\n",
        "    i= i+1\n",
        "\n",
        "\n",
        "\n",
        "#driver code\n",
        "arr = ['A','B','C','D','E','F']\n",
        "n= len(arr)\n",
        "printCircular(arr,n,3)"
      ],
      "execution_count": null,
      "outputs": [
        {
          "output_type": "stream",
          "text": [
            "D E F A B C "
          ],
          "name": "stdout"
        }
      ]
    },
    {
      "cell_type": "code",
      "metadata": {
        "colab": {
          "base_uri": "https://localhost:8080/"
        },
        "id": "NulN2bGqVKxO",
        "outputId": "e3a445af-3f94-4eca-c9d5-7e3745f4da0f"
      },
      "source": [
        "# BiG \"O\" notation\n",
        "# ১. আমার অ্যালগোরিদম কি নির্ধারিত সময়ের মধ্যে ফলাফল এনে দিবে?\n",
        "# ২. সর্বোচ্চ কত বড় ইনপুটের জন্য আমার অ্যালগোরিদম কাজ করবে?\n",
        "# ৩. আমার অ্যালগোরিদম কতখানি মেমরি ব্যবহার করছে?\n",
        "\n",
        "def MyAlgo(n):\n",
        "  x = n+10\n",
        "  x=x/2\n",
        "  return x\n",
        "\n",
        "print(MyAlgo(234802389465895))\n",
        "\n",
        "# O(1)\n",
        "# অ্যালগোরিদমের কমপ্লেক্সিটি হলো O(1),এর মানে হলো ইনপুটের আকার যেমনই হোকনা কেন একটি constant টাইমে অ্যালগোরিদমটি কাজ করা শেষ করবে।"
      ],
      "execution_count": null,
      "outputs": [
        {
          "output_type": "stream",
          "text": [
            "117401194732952.5\n"
          ],
          "name": "stdout"
        }
      ]
    },
    {
      "cell_type": "code",
      "metadata": {
        "colab": {
          "base_uri": "https://localhost:8080/"
        },
        "id": "8MBuhoFeZPGs",
        "outputId": "c0a09bb3-d1f0-439e-d417-89e51a4fd44d"
      },
      "source": [
        "def Myalgo2(n):\n",
        "  sum = 0\n",
        "  for i in range(n):\n",
        "    sum = sum + i\n",
        "    if(sum>=1000):\n",
        "      break\n",
        "  return sum\n",
        "\n",
        "print(Myalgo2(300))\n",
        "# O(1)"
      ],
      "execution_count": null,
      "outputs": [
        {
          "output_type": "stream",
          "text": [
            "1035\n"
          ],
          "name": "stdout"
        }
      ]
    },
    {
      "cell_type": "code",
      "metadata": {
        "colab": {
          "base_uri": "https://localhost:8080/"
        },
        "id": "biEVBhi8adad",
        "outputId": "acc284e5-51bd-4a00-a544-ae4e46d4ed89"
      },
      "source": [
        "def Myalgo2(n):\n",
        "  sum = 0\n",
        "  for i in range(n):\n",
        "    sum = sum + i\n",
        "    # if(sum>=1000):\n",
        "    #   break\n",
        "  return sum\n",
        "\n",
        "print(Myalgo2(500))\n",
        "# O(n)\n",
        "# কমপ্লেক্সিটি O(n) কারণ এখানে লুপটি n বার চলবে।\n",
        "# Best Case , Worst Case\n",
        "[3,2,1,4,6,7,8,9,0,4,756,78,45,654,87]\n",
        "# worst case এ যতগুলো ইনস্ট্রাকশন থাকবে সেটাই আমাদের কমপ্লেক্সিটি।"
      ],
      "execution_count": null,
      "outputs": [
        {
          "output_type": "stream",
          "text": [
            "124750\n"
          ],
          "name": "stdout"
        }
      ]
    },
    {
      "cell_type": "code",
      "metadata": {
        "id": "2zZXCbs0bDft"
      },
      "source": [
        "def Myalgo3(n):\n",
        "  sum = 0\n",
        "  for i in range(n):\n",
        "    j = i\n",
        "    while(j<n):\n",
        "      sum = i+j\n",
        "      j = j-1\n",
        "\n",
        "  return sum\n",
        "print(Myalgo3(30))\n"
      ],
      "execution_count": null,
      "outputs": []
    },
    {
      "cell_type": "markdown",
      "metadata": {
        "id": "Qq0Zx0MHdUPN"
      },
      "source": [
        "NxN\n",
        "O(n**2)"
      ]
    },
    {
      "cell_type": "code",
      "metadata": {
        "id": "kj6ZAGs2cive"
      },
      "source": [
        ""
      ],
      "execution_count": null,
      "outputs": []
    }
  ]
}